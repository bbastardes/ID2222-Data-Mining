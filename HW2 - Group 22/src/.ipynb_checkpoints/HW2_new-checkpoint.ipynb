{
 "cells": [
  {
   "cell_type": "code",
   "execution_count": 1,
   "metadata": {},
   "outputs": [
    {
     "data": {
      "text/plain": [
       "Intitializing Scala interpreter ..."
      ]
     },
     "metadata": {},
     "output_type": "display_data"
    },
    {
     "data": {
      "text/plain": [
       "Spark Web UI available at http://DESKTOP-OGTOHVK:4040\n",
       "SparkContext available as 'sc' (version = 3.0.1, master = local[*], app id = local-1605732569062)\n",
       "SparkSession available as 'spark'\n"
      ]
     },
     "metadata": {},
     "output_type": "display_data"
    },
    {
     "data": {
      "text/plain": [
       "warning: there was one feature warning; for details, enable `:setting -feature' or `:replay -feature'\r\n",
       "import org.apache.spark.SparkConf\r\n",
       "import org.apache.spark.SparkContext\r\n",
       "import org.apache.spark.rdd.RDD\r\n",
       "import scala.collection.mutable.ListBuffer\r\n",
       "import scala.io.Source\r\n",
       "bool2int: (b: Boolean)Int\r\n"
      ]
     },
     "execution_count": 1,
     "metadata": {},
     "output_type": "execute_result"
    }
   ],
   "source": [
    "import org.apache.spark.SparkConf\n",
    "import org.apache.spark.SparkContext\n",
    "import org.apache.spark.rdd.RDD\n",
    "import scala.collection.mutable.ListBuffer\n",
    "import scala.io.Source\n",
    "import scala.util.control._\n",
    "implicit def bool2int(b:Boolean) = if (b) 1 else 0"
   ]
  },
  {
   "cell_type": "code",
   "execution_count": 41,
   "metadata": {},
   "outputs": [
    {
     "data": {
      "text/plain": [
       "data: String = ../data/T10I4D100K.dat\r\n",
       "support: Int = 1000\r\n",
       "k: Int = 1\r\n",
       "singletons: Array[Int] = Array(594, 1535, 673, 531, 1394, 1094, 2149, 997, 3090, 0, 1351, 525, 3415, 35, 197, 458, 150, 1683, 813, 121, 40, 2666, 397, 128, 191, 1395, 527, 2165, 1454, 171, 0, 1666, 4248, 1460, 56, 1984, 528, 1249, 2402, 4258, 457, 1353, 119, 1721, 903, 1728, 543, 175, 2472, 137, 0, 1612, 1983, 535, 2595, 1959, 114, 2743, 1330, 312, 0, 0, 110, 0, 319, 0, 888, 316, 1601, 2370, 2411, 3507, 2852, 2179, 58, 3151, 0, 0, 2471, 0, 826, 270, 674, 181, 0, 1555, 229, 0, 303, 211, 1875, 116, 0, 2777, 1201, 841, 975, 1466, 486, 0, 1749, 329, 109, 327, 1158, 1100, 0, 0, 940, 0, 1801, 1171, 2680, 394, 816, 1775, 2193, 731, 916, 0, 4973, 17, 1081, 28, 294, 1287, 1075, 492, 525, 1547, 1711, 327, 2641, 0, 0, 82, 707,...\r\n"
      ]
     },
     "execution_count": 41,
     "metadata": {},
     "output_type": "execute_result"
    }
   ],
   "source": [
    "// parameters \n",
    "val data = \"../data/T10I4D100K.dat\"\n",
    "val support = 1000\n",
    "val k = 1\n",
    "\n",
    "// frequent singelton\n",
    "val singletons = Array.fill(100000)(0)\n",
    "Source.fromFile(data).getLines().map(x => x.split(\" \").map(item => item.toInt)).foreach(_.foreach(singletons(_) += 1))\n",
    "\n",
    "val L1 = singletons.zipWithIndex.filter(x => x._1 >= support).map(x => Set(x._2)).toSet"
   ]
  },
  {
   "cell_type": "code",
   "execution_count": 38,
   "metadata": {},
   "outputs": [
    {
     "data": {
      "text/plain": [
       "source: scala.collection.immutable.Set[scala.collection.immutable.Set[Int]] = Set(Set(408, 467, 285, 499, 594, 155, 8, 346, 432), Set(814, 829, 966, 54, 236, 900, 521, 617, 854, 210), Set(217, 185, 480, 117, 678, 21, 484, 471, 339, 911, 563, 663, 927, 145, 867, 4, 897, 960, 871), Set(57, 789, 834, 307, 381, 361, 975), Set(777, 797, 966, 692, 746, 224, 67, 928), Set(352, 5, 52, 834, 736, 626, 653, 175, 832, 918, 469, 496), Set(120, 10, 598, 467, 229, 883, 145, 712, 437, 277), Set(504, 751, 78, 529, 21, 205, 932, 368, 716, 239, 860, 163, 496), Set(440, 472, 766, 798, 862, 73, 805, 844, 832), Set(606, 692, 132, 678, 647, 975, 494, 688), Set(449, 57, 948, 7, 470, 652, 55, 268), Set(52, 316, 820, 413, 831, 130, 72), Set(352, 853, 362, 567, 883, 563, 438, 978, 262, 294, 708), Set(348, 141, 88...\r\n"
      ]
     },
     "execution_count": 38,
     "metadata": {},
     "output_type": "execute_result"
    }
   ],
   "source": [
    "// Retrieving just useful lines (the ones with at least a frequent singleton)\n",
    "val source = Source.fromFile(data).getLines().map(x => x.split(\" \").map(item => item.toInt).toSet).toSet.\n",
    "              filter(line => line.intersect(L1).size > 1).toSet"
   ]
  },
  {
   "cell_type": "code",
   "execution_count": 4,
   "metadata": {},
   "outputs": [
    {
     "data": {
      "text/plain": [
       "possible: scala.collection.immutable.Map[scala.collection.immutable.Set[Int],Int] = Map(Set(192, 844) -> 0, Set(784, 240) -> 1, Set(995, 8) -> 2, Set(265, 579) -> 3, Set(804, 736) -> 4, Set(788, 351) -> 5, Set(265, 580) -> 6, Set(125, 995) -> 7, Set(554, 984) -> 8, Set(826, 769) -> 9, Set(766, 984) -> 10, Set(285, 701) -> 11, Set(605, 258) -> 12, Set(579, 242) -> 13, Set(521, 145) -> 14, Set(181, 649) -> 15, Set(841, 125) -> 16, Set(349, 310) -> 17, Set(458, 175) -> 18, Set(998, 351) -> 19, Set(120, 611) -> 20, Set(48, 684) -> 21, Set(57, 860) -> 22, Set(692, 678) -> 23, Set(28, 294) -> 24, Set(75, 227) -> 25, Set(217, 205) -> 26, Set(229, 991) -> 27, Set(578, 122) -> 28, Set(487, 290) -> 29, Set(38, 41) -> 30, Set(210, 496) -> 31, Set(538, 928) -> 32, Set(21, 722) -> 33, Set(819, 675) ...\r\n"
      ]
     },
     "execution_count": 4,
     "metadata": {},
     "output_type": "execute_result"
    }
   ],
   "source": [
    "// map of all the candidates and a unique value\n",
    "var possible = L1.subsets(2).toSet.zipWithIndex.toMap"
   ]
  },
  {
   "cell_type": "code",
   "execution_count": 12,
   "metadata": {},
   "outputs": [
    {
     "data": {
      "text/plain": [
       "res6: Int = 48151\r\n"
      ]
     },
     "execution_count": 12,
     "metadata": {},
     "output_type": "execute_result"
    }
   ],
   "source": [
    "possible(Set(217,346))"
   ]
  },
  {
   "cell_type": "code",
   "execution_count": 13,
   "metadata": {},
   "outputs": [
    {
     "data": {
      "text/plain": [
       "res7: scala.collection.immutable.Map[scala.collection.immutable.Set[Int],Int] = Map(Set(217, 346) -> 48151)\r\n"
      ]
     },
     "execution_count": 13,
     "metadata": {},
     "output_type": "execute_result"
    }
   ],
   "source": [
    "possible.filter(_._2 == 48151)"
   ]
  },
  {
   "cell_type": "code",
   "execution_count": 17,
   "metadata": {},
   "outputs": [
    {
     "data": {
      "text/plain": [
       "res11: Int = 996\r\n"
      ]
     },
     "execution_count": 17,
     "metadata": {},
     "output_type": "execute_result"
    }
   ],
   "source": [
    "occ(possible(Set(390,227)))"
   ]
  },
  {
   "cell_type": "code",
   "execution_count": 5,
   "metadata": {},
   "outputs": [
    {
     "data": {
      "text/plain": [
       "occ: Array[Int] = Array(47, 12, 41, 18, 13, 27, 17, 14, 19, 28, 79, 22, 16, 28, 55, 10, 15, 15, 19, 28, 41, 83, 16, 41, 9, 51, 269, 25, 16, 43, 28, 17, 30, 127, 27, 57, 31, 89, 52, 43, 22, 19, 14, 10, 39, 5, 9, 26, 7, 27, 10, 62, 28, 19, 17, 13, 3, 29, 112, 18, 44, 42, 33, 12, 21, 43, 59, 19, 96, 24, 30, 46, 74, 72, 23, 9, 17, 24, 21, 22, 17, 92, 30, 21, 12, 20, 50, 10, 32, 38, 26, 21, 91, 30, 13, 18, 188, 65, 18, 20, 62, 37, 52, 25, 15, 52, 26, 12, 37, 11, 45, 74, 193, 8, 14, 11, 14, 10, 17, 49, 12, 14, 19, 570, 9, 14, 12, 21, 27, 20, 21, 27, 58, 78, 26, 82, 41, 24, 128, 12, 21, 13, 16, 18, 6, 63, 14, 18, 17, 40, 16, 67, 12, 15, 49, 11, 35, 18, 15, 57, 21, 16, 15, 13, 27, 35, 126, 11, 25, 16, 12, 62, 37, 401, 312, 27, 16, 98, 47, 167, 5, 15, 22, 21, 39, 43, 78, 20, 18, 85, 15, 9, 6, 57...\r\n"
      ]
     },
     "execution_count": 5,
     "metadata": {},
     "output_type": "execute_result"
    }
   ],
   "source": [
    "val occ = Array.fill(possible.keySet.size)(0)\n",
    "\n",
    "source.foreach(line => line.subsets(2).toSet.intersect(possible.keySet).foreach(x => occ(possible(x)) = occ(possible(x)) + 1))"
   ]
  },
  {
   "cell_type": "code",
   "execution_count": 6,
   "metadata": {},
   "outputs": [
    {
     "data": {
      "text/plain": [
       "L2: scala.collection.immutable.Set[scala.collection.immutable.Set[Int]] = Set(Set(829, 368), Set(704, 39), Set(829, 789), Set(682, 368), Set(825, 39), Set(217, 346), Set(825, 704))\r\n"
      ]
     },
     "execution_count": 6,
     "metadata": {},
     "output_type": "execute_result"
    }
   ],
   "source": [
    "val L2 = occ.zipWithIndex.filter(x => x._1 >= support).map(x => possible.filter(_._2 == x._2).map(_._1).flatten.toSet).toSet"
   ]
  },
  {
   "cell_type": "code",
   "execution_count": 7,
   "metadata": {},
   "outputs": [
    {
     "data": {
      "text/plain": [
       "source: scala.collection.immutable.Set[scala.collection.immutable.Set[Int]] = Set(Set(666, 115, 276, 817, 825, 27, 704, 39, 858, 438, 914, 277), Set(829, 125, 789, 70, 467, 682, 281, 406, 494, 505, 690, 36, 210), Set(829, 591, 692, 522, 742, 41, 876, 368, 346, 474), Set(217, 529, 392, 33, 515, 368, 346, 716, 283, 496), Set(829, 969, 789, 489, 888, 39, 208, 516, 458, 470, 744, 368, 290, 833), Set(538, 829, 78, 147, 634, 682, 738, 919, 494, 130, 368, 854, 122), Set(825, 830, 704, 39, 859), Set(825, 156, 704, 39, 108, 175, 55, 752, 294), Set(39, 704, 782, 825), Set(25, 825, 704, 39, 703, 231, 524, 495, 699), Set(762, 829, 825, 188, 706, 96, 279, 804, 704, 145, 390, 8, 716, 867, 696, 624), Set(234, 829, 682, 513, 494, 795, 812, 414, 539, 368, 914), Set(217, 449, 110, 561, 788, 33, 682, 515,...\r\n"
      ]
     },
     "execution_count": 7,
     "metadata": {},
     "output_type": "execute_result"
    }
   ],
   "source": [
    "val source = Source.fromFile(data).getLines().map(x => x.split(\" \").map(item => item.toInt).toSet).toSet.\n",
    "              filter(line => line.intersect(L2.flatten).size > 2).toSet"
   ]
  },
  {
   "cell_type": "code",
   "execution_count": 33,
   "metadata": {},
   "outputs": [
    {
     "data": {
      "text/plain": [
       "k: Int = 3\r\n",
       "import scala.util.control._\r\n",
       "inloop: scala.util.control.Breaks = scala.util.control.Breaks@40b5fb1c\r\n",
       "pos: scala.collection.immutable.Set[scala.collection.immutable.Set[Int]] = Set(Set(825, 704, 39))\r\n",
       "possible: scala.collection.immutable.Map[scala.collection.immutable.Set[Int],Int] = Map(Set(825, 704, 39) -> 0)\r\n"
      ]
     },
     "execution_count": 33,
     "metadata": {},
     "output_type": "execute_result"
    }
   ],
   "source": [
    "val k = 3\n",
    "import scala.util.control._\n",
    "val inloop = new Breaks\n",
    "var pos = L2.flatten.subsets(k).toSet\n",
    "\n",
    "    if (k > 2) {\n",
    "        for (cand <- pos){\n",
    "        inloop.breakable{\n",
    "        for (sub: Set[Int] <- cand.subsets(k-1)) {\n",
    "            if (Set(sub).intersect(L2).size == 0){\n",
    "                pos -= cand\n",
    "                inloop.break\n",
    "        }}}\n",
    "    } \n",
    "    }\n",
    "val possible = pos.zipWithIndex.toMap"
   ]
  },
  {
   "cell_type": "code",
   "execution_count": 34,
   "metadata": {},
   "outputs": [
    {
     "data": {
      "text/plain": [
       "occ: Array[Int] = Array(1007)\r\n"
      ]
     },
     "execution_count": 34,
     "metadata": {},
     "output_type": "execute_result"
    }
   ],
   "source": [
    "val occ = Array.fill(possible.keySet.size)(0)\n",
    "\n",
    "source.foreach(line => line.subsets(3).toSet.intersect(possible.keySet).foreach(x => occ(possible(x)) = occ(possible(x)) + 1))"
   ]
  },
  {
   "cell_type": "code",
   "execution_count": 76,
   "metadata": {},
   "outputs": [
    {
     "name": "stdout",
     "output_type": "stream",
     "text": [
      "(Start ,2)\n",
      "(Candidates ,70125)\n",
      "(#items,7)\n",
      "(Start ,3)\n",
      "(Candidates ,1)\n",
      "(#items,1)\n",
      "(Start ,4)\n",
      "(Candidates ,0)\n",
      "(#items,0)\n"
     ]
    },
    {
     "data": {
      "text/plain": [
       "k: Int = 2\r\n",
       "res35: Set[Set[Int]] = Set(Set(825, 704, 39), Set(829, 368), Set(704, 39), Set(829, 789), Set(682, 368), Set(825, 39), Set(217, 346), Set(825, 704))\r\n"
      ]
     },
     "execution_count": 76,
     "metadata": {},
     "output_type": "execute_result"
    }
   ],
   "source": [
    "val k = 2\n",
    "\n",
    "count_itemsets(data, support, k, L1)"
   ]
  },
  {
   "cell_type": "code",
   "execution_count": 72,
   "metadata": {},
   "outputs": [
    {
     "data": {
      "text/plain": [
       "<console>:165: warning: a pure expression does nothing in statement position; multiline expressions might require enclosing parentheses\r\n",
       "           \"\"\"\r\n",
       "           ^\r\n",
       "warning: there was one feature warning; for details, enable `:setting -feature' or `:replay -feature'\r\n",
       "count_itemsets: (data: String, support: Int, k: Int, Lk: Set[Set[Int]])Set[Set[Int]]\r\n",
       "bool2int: (b: Boolean)Int\r\n",
       "import scala.util.control._\r\n",
       "import scala.collection.mutable\r\n",
       "generate_apriori: (Lk: Set[Set[Int]], k: Int)Set[Set[Int]]\r\n"
      ]
     },
     "execution_count": 72,
     "metadata": {},
     "output_type": "execute_result"
    }
   ],
   "source": [
    "def count_itemsets(data: String, support:Int, k:Int, Lk: Set[Set[Int]]): Set[Set[Int]] = {\n",
    "    \"\"\"\n",
    "    Recursive function which searchs for frequent itemsets with k>1.\n",
    "    \n",
    "    Params:\n",
    "    - data: path to dataset\n",
    "    - support: support threshold\n",
    "    - k: size of the itemset\n",
    "    - candidates: possible frequent itemset\n",
    "    \n",
    "    Returns:\n",
    "    - frequent_itemsets\n",
    "    \"\"\"\n",
    "    println(\"Start \",k)\n",
    "    var frequent_itemsets = Set[Set[Int]]()\n",
    "    val candidates = generate_apriori(Lk, k).zipWithIndex.toMap\n",
    "    println(\"Candidates \",candidates.size)\n",
    "    val occ = Array.fill(candidates.keySet.size)(0)\n",
    "    \n",
    "    val source = Source.fromFile(data).getLines().map(x => x.split(\" \").map(item => item.toInt).toSet).toSet.\n",
    "              filter(line => line.intersect(Lk.flatten).size > k-1).toSet\n",
    "    \n",
    "    source.foreach(line => line.subsets(k).toSet.intersect(candidates.keySet).\n",
    "                   foreach(x => occ(candidates(x)) = occ(candidates(x)) + 1))\n",
    "    \n",
    "    val frequent_sets_k = occ.zipWithIndex.filter(x => x._1 >= support).\n",
    "            map(x => candidates.filter(_._2 == x._2).map(_._1).flatten.toSet).toSet\n",
    "    \n",
    "    frequent_sets_k.foreach(item => frequent_itemsets = frequent_itemsets + item)\n",
    "    println(\"#items\", frequent_itemsets.size)\n",
    "    \n",
    "    if (frequent_sets_k.size > 0) {\n",
    "        count_itemsets(data, support, k+1, frequent_sets_k).foreach(item => frequent_itemsets = frequent_itemsets + item)\n",
    "    }\n",
    "    return frequent_itemsets\n",
    "} \n",
    "\n",
    "\n",
    "implicit def bool2int(b:Boolean) = if (b) 1 else 0\n",
    "import scala.util.control._\n",
    "import scala.collection.mutable\n",
    "\n",
    "def generate_apriori(Lk : Set[Set[Int]], k: Int): Set[Set[Int]] = {\n",
    "    \n",
    "    val inloop = new Breaks\n",
    "    var possible = Lk.flatten.subsets(k).toSet\n",
    "    \n",
    "    if (k > 2) {\n",
    "        for (cand <- possible){\n",
    "        inloop.breakable{\n",
    "        for (sub: Set[Int] <- cand.subsets(k-1)) {\n",
    "            if (Set(sub).intersect(Lk).size == 0){\n",
    "                possible -= cand\n",
    "                inloop.break\n",
    "        }}}\n",
    "    } \n",
    "    }\n",
    "    return possible\n",
    "}"
   ]
  },
  {
   "cell_type": "markdown",
   "metadata": {},
   "source": [
    "## Task 1"
   ]
  },
  {
   "cell_type": "code",
   "execution_count": 38,
   "metadata": {},
   "outputs": [
    {
     "data": {
      "text/plain": [
       "warning: there was one feature warning; for details, enable `:setting -feature' or `:replay -feature'\n",
       "import scala.io.Source\n",
       "bool2int: (b: Boolean)Int\n",
       "apriori_alg: (data: String, support: Int, k: Int)List[List[Int]]\n",
       "count_itemsets: (data: String, support: Int, k: Int, candidates: List[List[Int]])List[List[Int]]\n"
      ]
     },
     "execution_count": 38,
     "metadata": {},
     "output_type": "execute_result"
    }
   ],
   "source": [
    "import scala.io.Source\n",
    "implicit def bool2int(b:Boolean) = if (b) 1 else 0\n",
    "\n",
    "def apriori_alg(data: String, support:Int, k:Int): List[List[Int]] = {\n",
    "    \n",
    "    \"\"\"\n",
    "    A-Priori algorithm for finding frequent itemsets with support at least 'support' in data.\n",
    "    \n",
    "    Params:\n",
    "    - data: path to the dataset\n",
    "    - support: support threshold\n",
    "    - k: size of the itemset\n",
    "    \n",
    "    Returns: \n",
    "    - List with the frequent itemsets (by calling the function count_itemsets).\n",
    "    \"\"\"\n",
    "    \n",
    "    val source = Source.fromFile(data)\n",
    "    val singletons = Array.fill(100000)(0)\n",
    "    val candidates = Array.range(0, 1000) \n",
    "\n",
    "    for (line <- source.getLines().map(x => x.split(\" \").map(item => item.toInt))) {\n",
    "        for (i <- candidates){\n",
    "            singletons(i) = singletons(i) + List(i).forall(line.toList.contains)\n",
    "            }\n",
    "        }\n",
    "    source.close()\n",
    "\n",
    "    val frequent_singl = singletons.zip(candidates).filter(x => (x._1 >= support)).map(item => item._2)\n",
    "    val candidates2 = frequent_singl.toSet[Int].subsets(2).map(_.toList).toList\n",
    "    \n",
    "    return count_itemsets(data, support, 2, candidates2)\n",
    "}\n",
    " \n",
    "\n",
    "\n",
    "def count_itemsets(data: String, support:Int, k:Int, candidates: List[List[Int]]): List[List[Int]] = {\n",
    "    \"\"\"\n",
    "    Recursive function which searchs for frequent itemsets with k>1.\n",
    "    \n",
    "    Params:\n",
    "    - data: path to dataset\n",
    "    - support: support threshold\n",
    "    - k: size of the itemset\n",
    "    - candidates: possible frequent itemset\n",
    "    \n",
    "    Returns:\n",
    "    - frequent_itemsets\n",
    "    \"\"\"\n",
    "    \n",
    "    var i = 0\n",
    "    val occurrences = Array.fill(candidates.size)(0)\n",
    "    val frequent_itemsets = new ListBuffer[(List[List[Int]])]()\n",
    "    \n",
    "    println(\"open source\",k)\n",
    "    val source = Source.fromFile(data)\n",
    "    for (line <- source.getLines().map(x => x.split(\" \").map(item => item.toInt))) {\n",
    "        if (i%1000 == 0){\n",
    "        println(\"lines done \",i)\n",
    "        }\n",
    "        for (item <- candidates.zipWithIndex) {\n",
    "            occurrences(item._2) = occurrences(item._2)  + item._1.forall(line.toList.contains)\n",
    "        }\n",
    "        i = i + 1\n",
    "    }\n",
    "    source.close()\n",
    "    println(\"close source\",k)\n",
    "    \n",
    "    val frequent_sets_k = occurrences.zip(candidates).filter(x => (x._1 >= support)).map(item => item._2).toList\n",
    "    frequent_itemsets += frequent_sets_k\n",
    "    \n",
    "    if (frequent_sets_k.size >1) {\n",
    "        val candidates2 = frequent_sets_k.flatten.toSet[Int].subsets(k+1).map(_.toList).toList\n",
    "        \n",
    "        frequent_itemsets += count_itemsets(data, support, k+1, candidates2)\n",
    "    }\n",
    "    \n",
    "    return frequent_itemsets.toList.flatten\n",
    "} \n"
   ]
  },
  {
   "cell_type": "code",
   "execution_count": 22,
   "metadata": {},
   "outputs": [
    {
     "data": {
      "text/plain": [
       "data: String = data/T10I4D100K.dat\n",
       "support: Int = 1000\n"
      ]
     },
     "execution_count": 22,
     "metadata": {},
     "output_type": "execute_result"
    }
   ],
   "source": [
    "// parameters \n",
    "val data = \"data/T10I4D100K.dat\"\n",
    "val support = 1000\n",
    "val k = 1"
   ]
  },
  {
   "cell_type": "code",
   "execution_count": 40,
   "metadata": {},
   "outputs": [
    {
     "name": "stdout",
     "output_type": "stream",
     "text": [
      "(open source,2)\n",
      "(lines done ,0)\n",
      "(lines done ,1000)\n",
      "(lines done ,2000)\n",
      "(lines done ,3000)\n",
      "(lines done ,4000)\n",
      "(lines done ,5000)\n",
      "(lines done ,6000)\n",
      "(lines done ,7000)\n",
      "(lines done ,8000)\n",
      "(lines done ,9000)\n",
      "(lines done ,10000)\n",
      "(lines done ,11000)\n",
      "(lines done ,12000)\n",
      "(lines done ,13000)\n",
      "(lines done ,14000)\n",
      "(lines done ,15000)\n",
      "(lines done ,16000)\n",
      "(lines done ,17000)\n",
      "(lines done ,18000)\n",
      "(lines done ,19000)\n",
      "(lines done ,20000)\n",
      "(lines done ,21000)\n",
      "(lines done ,22000)\n",
      "(lines done ,23000)\n",
      "(lines done ,24000)\n",
      "(lines done ,25000)\n",
      "(lines done ,26000)\n",
      "(lines done ,27000)\n",
      "(lines done ,28000)\n",
      "(lines done ,29000)\n",
      "(lines done ,30000)\n",
      "(lines done ,31000)\n",
      "(lines done ,32000)\n",
      "(lines done ,33000)\n",
      "(lines done ,34000)\n",
      "(lines done ,35000)\n",
      "(lines done ,36000)\n",
      "(lines done ,37000)\n",
      "(lines done ,38000)\n",
      "(lines done ,39000)\n",
      "(lines done ,40000)\n",
      "(lines done ,41000)\n",
      "(lines done ,42000)\n",
      "(lines done ,43000)\n",
      "(lines done ,44000)\n",
      "(lines done ,45000)\n",
      "(lines done ,46000)\n",
      "(lines done ,47000)\n",
      "(lines done ,48000)\n",
      "(lines done ,49000)\n",
      "(lines done ,50000)\n",
      "(lines done ,51000)\n",
      "(lines done ,52000)\n",
      "(lines done ,53000)\n",
      "(lines done ,54000)\n",
      "(lines done ,55000)\n",
      "(lines done ,56000)\n",
      "(lines done ,57000)\n",
      "(lines done ,58000)\n",
      "(lines done ,59000)\n",
      "(lines done ,60000)\n",
      "(lines done ,61000)\n",
      "(lines done ,62000)\n",
      "(lines done ,63000)\n",
      "(lines done ,64000)\n",
      "(lines done ,65000)\n",
      "(lines done ,66000)\n",
      "(lines done ,67000)\n",
      "(lines done ,68000)\n",
      "(lines done ,69000)\n",
      "(lines done ,70000)\n",
      "(lines done ,71000)\n",
      "(lines done ,72000)\n",
      "(lines done ,73000)\n",
      "(lines done ,74000)\n",
      "(lines done ,75000)\n",
      "(lines done ,76000)\n",
      "(lines done ,77000)\n",
      "(lines done ,78000)\n",
      "(lines done ,79000)\n",
      "(lines done ,80000)\n",
      "(lines done ,81000)\n",
      "(lines done ,82000)\n",
      "(lines done ,83000)\n",
      "(lines done ,84000)\n",
      "(lines done ,85000)\n",
      "(lines done ,86000)\n",
      "(lines done ,87000)\n",
      "(lines done ,88000)\n",
      "(lines done ,89000)\n",
      "(lines done ,90000)\n",
      "(lines done ,91000)\n",
      "(lines done ,92000)\n",
      "(lines done ,93000)\n",
      "(lines done ,94000)\n",
      "(lines done ,95000)\n",
      "(lines done ,96000)\n",
      "(lines done ,97000)\n",
      "(lines done ,98000)\n",
      "(lines done ,99000)\n",
      "(close source,2)\n",
      "(open source,3)\n",
      "(lines done ,0)\n",
      "(lines done ,1000)\n",
      "(lines done ,2000)\n",
      "(lines done ,3000)\n",
      "(lines done ,4000)\n",
      "(lines done ,5000)\n",
      "(lines done ,6000)\n",
      "(lines done ,7000)\n",
      "(lines done ,8000)\n",
      "(lines done ,9000)\n",
      "(lines done ,10000)\n",
      "(lines done ,11000)\n",
      "(lines done ,12000)\n",
      "(lines done ,13000)\n",
      "(lines done ,14000)\n",
      "(lines done ,15000)\n",
      "(lines done ,16000)\n",
      "(lines done ,17000)\n",
      "(lines done ,18000)\n",
      "(lines done ,19000)\n",
      "(lines done ,20000)\n",
      "(lines done ,21000)\n",
      "(lines done ,22000)\n",
      "(lines done ,23000)\n",
      "(lines done ,24000)\n",
      "(lines done ,25000)\n",
      "(lines done ,26000)\n",
      "(lines done ,27000)\n",
      "(lines done ,28000)\n",
      "(lines done ,29000)\n",
      "(lines done ,30000)\n",
      "(lines done ,31000)\n",
      "(lines done ,32000)\n",
      "(lines done ,33000)\n",
      "(lines done ,34000)\n",
      "(lines done ,35000)\n",
      "(lines done ,36000)\n",
      "(lines done ,37000)\n",
      "(lines done ,38000)\n",
      "(lines done ,39000)\n",
      "(lines done ,40000)\n",
      "(lines done ,41000)\n",
      "(lines done ,42000)\n",
      "(lines done ,43000)\n",
      "(lines done ,44000)\n",
      "(lines done ,45000)\n",
      "(lines done ,46000)\n",
      "(lines done ,47000)\n",
      "(lines done ,48000)\n",
      "(lines done ,49000)\n",
      "(lines done ,50000)\n",
      "(lines done ,51000)\n",
      "(lines done ,52000)\n",
      "(lines done ,53000)\n",
      "(lines done ,54000)\n",
      "(lines done ,55000)\n",
      "(lines done ,56000)\n",
      "(lines done ,57000)\n",
      "(lines done ,58000)\n",
      "(lines done ,59000)\n",
      "(lines done ,60000)\n",
      "(lines done ,61000)\n",
      "(lines done ,62000)\n",
      "(lines done ,63000)\n",
      "(lines done ,64000)\n",
      "(lines done ,65000)\n",
      "(lines done ,66000)\n",
      "(lines done ,67000)\n",
      "(lines done ,68000)\n",
      "(lines done ,69000)\n",
      "(lines done ,70000)\n",
      "(lines done ,71000)\n",
      "(lines done ,72000)\n",
      "(lines done ,73000)\n",
      "(lines done ,74000)\n",
      "(lines done ,75000)\n",
      "(lines done ,76000)\n",
      "(lines done ,77000)\n",
      "(lines done ,78000)\n",
      "(lines done ,79000)\n",
      "(lines done ,80000)\n",
      "(lines done ,81000)\n",
      "(lines done ,82000)\n",
      "(lines done ,83000)\n",
      "(lines done ,84000)\n",
      "(lines done ,85000)\n",
      "(lines done ,86000)\n",
      "(lines done ,87000)\n",
      "(lines done ,88000)\n",
      "(lines done ,89000)\n",
      "(lines done ,90000)\n",
      "(lines done ,91000)\n",
      "(lines done ,92000)\n",
      "(lines done ,93000)\n",
      "(lines done ,94000)\n",
      "(lines done ,95000)\n",
      "(lines done ,96000)\n",
      "(lines done ,97000)\n",
      "(lines done ,98000)\n",
      "(lines done ,99000)\n",
      "(close source,3)\n"
     ]
    },
    {
     "data": {
      "text/plain": [
       "frequent_itmsets: List[List[Int]] = List(List(217, 346), List(829, 789), List(829, 368), List(825, 704), List(825, 39), List(682, 368), List(704, 39), List(722, 390), List(390, 227), List(825, 704, 39))\n"
      ]
     },
     "execution_count": 40,
     "metadata": {},
     "output_type": "execute_result"
    }
   ],
   "source": [
    "val frequent_itmsets = apriori_alg(data, support, k)"
   ]
  },
  {
   "cell_type": "markdown",
   "metadata": {},
   "source": [
    "## Task 2"
   ]
  },
  {
   "cell_type": "code",
   "execution_count": 41,
   "metadata": {},
   "outputs": [
    {
     "name": "stdout",
     "output_type": "stream",
     "text": [
      "\n",
      "DONE\n"
     ]
    },
    {
     "data": {
      "text/plain": [
       "items: List[List[Int]] = List(List(217), List(346), List(829), List(789), List(829), List(368), List(825), List(704), List(825), List(39), List(682), List(368), List(704), List(39), List(722), List(390), List(390), List(227), List(825), List(704), List(39), List(217, 346), List(829, 789), List(829, 368), List(825, 704), List(825, 39), List(682, 368), List(704, 39), List(722, 390), List(390, 227), List(825, 704, 39))\n",
       "occurrences: Array[Int] = Array(5375, 3470, 6810, 4309, 6810, 7828, 3085, 1794, 3085, 4258, 4132, 7828, 1794, 4258, 5845, 2685, 2685, 1818, 3085, 1794, 4258, 1336, 1194, 1194, 1102, 1187, 1193, 1107, 1042, 1049, 1035)\n",
       "source: scala.io.BufferedSource = <iterator>\n"
      ]
     },
     "execution_count": 41,
     "metadata": {},
     "output_type": "execute_result"
    }
   ],
   "source": [
    "val items = frequent_itmsets.flatten.map(x => List(x)) ::: frequent_itmsets\n",
    "val occurrences = Array.fill(items.size)(0)\n",
    "val source = Source.fromFile(data)\n",
    "\n",
    "for (line <- source.getLines().map(x => x.split(\" \").map(item => item.toInt))) {\n",
    "    for (item <- items.zipWithIndex) {\n",
    "                occurrences(item._2) = occurrences(item._2)  + item._1.forall(line.toList.contains)\n",
    "    }\n",
    "}\n",
    "source.close()\n",
    "println(\"\\nDONE\")"
   ]
  },
  {
   "cell_type": "code",
   "execution_count": 58,
   "metadata": {},
   "outputs": [
    {
     "data": {
      "text/plain": [
       "<console>:66: warning: a pure expression does nothing in statement position; multiline expressions might require enclosing parentheses\n",
       "           \"\"\"\n",
       "           ^\n",
       "association_rule: (itemset: List[Int], support_set: List[(List[Int], Int)], thr: Double)Int\n"
      ]
     },
     "execution_count": 58,
     "metadata": {},
     "output_type": "execute_result"
    }
   ],
   "source": [
    "def association_rule(itemset: List[Int], support_set: List[(List[Int], Int)], thr: Double): Int = {\n",
    "    \"\"\"\n",
    "    Algorithm for generating association rules between frequent itemsets discovered by using the \n",
    "    A-Priori algorithm in a dataset of sales transactions.\n",
    "    \n",
    "    Params:\n",
    "    - itemset: single frequent itemset\n",
    "    - support_set: contains the support of each element of the itemsets\n",
    "    - th: threshold of confidence\n",
    "    \n",
    "    Returns:\n",
    "    - Prints the association rule with confidence > threshold.\n",
    "    \"\"\"\n",
    "    \n",
    "    //println(\"Itemset: $itemset\")\n",
    "    val left_rule = itemset.toSet[Int].subsets().map(_.toList).toList.drop(1).dropRight(1)\n",
    "    val num = support_set.filter(x => x._1 == itemset).map(x => x._2: Double)\n",
    "    for (i <- left_rule){\n",
    "        val den = support_set.filter(x => x._1 == i).map(x => x._2: Double)\n",
    "        val confidence: Double = num(0)/den(0)\n",
    "        val right_rule = itemset diff i\n",
    "        if (confidence>= thr) {\n",
    "            println(f\"{$i} -> {$right_rule}: $confidence\")\n",
    "        }\n",
    "    }\n",
    "    return 0\n",
    "}"
   ]
  },
  {
   "cell_type": "code",
   "execution_count": 59,
   "metadata": {},
   "outputs": [
    {
     "name": "stdout",
     "output_type": "stream",
     "text": [
      "{List(704)} -> {List(825)}: 0.6142697881828316\n",
      "{List(704)} -> {List(39)}: 0.617056856187291\n",
      "{List(227)} -> {List(390)}: 0.577007700770077\n",
      "{List(704)} -> {List(825, 39)}: 0.5769230769230769\n",
      "{List(825, 704)} -> {List(39)}: 0.9392014519056261\n",
      "{List(825, 39)} -> {List(704)}: 0.8719460825610783\n",
      "{List(704, 39)} -> {List(825)}: 0.9349593495934959\n"
     ]
    },
    {
     "data": {
      "text/plain": [
       "c: Double = 0.5\n"
      ]
     },
     "execution_count": 59,
     "metadata": {},
     "output_type": "execute_result"
    }
   ],
   "source": [
    "val c = 0.5 // confidence thr\n",
    "frequent_itmsets.foreach{association_rule(_, items.zip(occurrences), c)}"
   ]
  },
  {
   "cell_type": "code",
   "execution_count": null,
   "metadata": {},
   "outputs": [],
   "source": []
  }
 ],
 "metadata": {
  "kernelspec": {
   "display_name": "spylon-kernel",
   "language": "scala",
   "name": "spylon-kernel"
  },
  "language_info": {
   "codemirror_mode": "text/x-scala",
   "file_extension": ".scala",
   "help_links": [
    {
     "text": "MetaKernel Magics",
     "url": "https://metakernel.readthedocs.io/en/latest/source/README.html"
    }
   ],
   "mimetype": "text/x-scala",
   "name": "scala",
   "pygments_lexer": "scala",
   "version": "0.4.1"
  }
 },
 "nbformat": 4,
 "nbformat_minor": 4
}
