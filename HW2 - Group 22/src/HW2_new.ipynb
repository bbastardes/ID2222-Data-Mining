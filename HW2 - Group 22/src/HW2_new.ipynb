{
 "cells": [
  {
   "cell_type": "code",
   "execution_count": 1,
   "metadata": {},
   "outputs": [
    {
     "data": {
      "text/plain": [
       "Intitializing Scala interpreter ..."
      ]
     },
     "metadata": {},
     "output_type": "display_data"
    },
    {
     "data": {
      "text/plain": [
       "Spark Web UI available at http://130.229.191.220:4040\n",
       "SparkContext available as 'sc' (version = 3.0.1, master = local[*], app id = local-1605794631198)\n",
       "SparkSession available as 'spark'\n"
      ]
     },
     "metadata": {},
     "output_type": "display_data"
    },
    {
     "data": {
      "text/plain": [
       "warning: there was one feature warning; for details, enable `:setting -feature' or `:replay -feature'\r\n",
       "import org.apache.spark.SparkConf\r\n",
       "import org.apache.spark.SparkContext\r\n",
       "import org.apache.spark.rdd.RDD\r\n",
       "import scala.collection.mutable.ListBuffer\r\n",
       "import scala.io.Source\r\n",
       "import scala.util.control._\r\n",
       "bool2int: (b: Boolean)Int\r\n"
      ]
     },
     "execution_count": 1,
     "metadata": {},
     "output_type": "execute_result"
    }
   ],
   "source": [
    "import org.apache.spark.SparkConf\n",
    "import org.apache.spark.SparkContext\n",
    "import org.apache.spark.rdd.RDD\n",
    "import scala.collection.mutable.ListBuffer\n",
    "import scala.io.Source\n",
    "import scala.util.control._\n",
    "implicit def bool2int(b:Boolean) = if (b) 1 else 0"
   ]
  },
  {
   "cell_type": "markdown",
   "metadata": {},
   "source": [
    "## Functions"
   ]
  },
  {
   "cell_type": "code",
   "execution_count": 14,
   "metadata": {},
   "outputs": [
    {
     "data": {
      "text/plain": [
       "<console>:98: warning: a pure expression does nothing in statement position; multiline expressions might require enclosing parentheses\r\n",
       "           \"\"\"\r\n",
       "           ^\r\n",
       "<console>:161: warning: a pure expression does nothing in statement position; multiline expressions might require enclosing parentheses\r\n",
       "           \"\"\"\r\n",
       "           ^\r\n",
       "warning: there was one feature warning; for details, enable `:setting -feature' or `:replay -feature'\r\n",
       "Apriori: (data: String)Set[(Set[Int], Int)]\r\n",
       "count_itemsets: (data: Set[Array[Int]], support: Int, k: Int, Lk: Set[Set[Int]])Set[(Set[Int], Int)]\r\n",
       "bool2int: (b: Boolean)Int\r\n",
       "import scala.util.control._\r\n",
       "import scala.collection.mutable\r\n",
       "generate_apriori: (Lk: Set[Set[Int]], k: Int)Set[Set[Int]]\r\n",
       "association_rule: (itemset: Set[(Set[Int], Int)], thr: Double)Set[(Set[Int], Set[Int], Double)]\r\n"
      ]
     },
     "execution_count": 14,
     "metadata": {},
     "output_type": "execute_result"
    }
   ],
   "source": [
    "def Apriori(data: String): Set[(Set[Int], Int)] = {\n",
    "\n",
    "    val t1 = System.nanoTime\n",
    "    val source = Source.fromFile(data).getLines().map(x => x.split(\" \").map(item => item.toInt)).toSet\n",
    "    val support = source.size/100\n",
    "    val k = 1\n",
    "\n",
    "    // frequent singelton\n",
    "    val singletons = Array.fill(100000)(0)\n",
    "\n",
    "    print(f\"k: $k -> \")\n",
    "    print(\"Candidates \"+ 1000)\n",
    "    Source.fromFile(data).getLines().map(x => x.split(\" \").map(item => item.toInt)).foreach(_.foreach(singletons(_) += 1))\n",
    "    val L1 = singletons.zipWithIndex.filter(x => x._1 >= support).map(x => (Set(x._2),x._1)).toSet\n",
    "    print(\" - > #items = \" + L1.size)\n",
    "\n",
    "    val source_full = Source.fromFile(data).getLines().map(x => x.split(\" \").map(item => item.toInt)).toSet\n",
    "    val frequent_itemsets = count_itemsets(source_full, support, k+1, L1.map(x => x._1)) union L1\n",
    "\n",
    "    println(\"\\nFrequent_itemsets (k>2): \") \n",
    "    frequent_itemsets.filter(x => x._1.size>1).foreach(set => print(\" \" + set + \" \"))\n",
    "    println(\"\\nExecution time \" + (System.nanoTime - t1) / 1e9)\n",
    "\n",
    "    return frequent_itemsets\n",
    "}\n",
    "\n",
    "\n",
    "def count_itemsets(data: Set[Array[Int]], support:Int, k:Int, Lk: Set[Set[Int]]): Set[(Set[Int], Int)] = {\n",
    "    \"\"\"\n",
    "    Recursive function which searchs for frequent itemsets with k>1.\n",
    "    \n",
    "    Params:\n",
    "    - data: dataset\n",
    "    - support: support threshold\n",
    "    - k: size of the itemset\n",
    "    \n",
    "    Returns:\n",
    "    - frequent_itemsets\n",
    "    \"\"\"\n",
    "    print(f\"\\nk: $k -> \")\n",
    "    var frequent_itemsets = Set[(Set[Int], Int)]()\n",
    "    val candidates = generate_apriori(Lk, k).zipWithIndex.toMap\n",
    "    print(\"Candidates \"+ candidates.size)\n",
    "    val occ = Array.fill(candidates.keySet.size)(0)\n",
    "    \n",
    "    val source = data.filter(line => line.toSet[Int].intersect(Lk.flatten).size > k-1).toSet\n",
    "    \n",
    "    if (candidates.size > 0){\n",
    "\n",
    "        source.foreach(line => line.toSet[Int].subsets(k).toSet.intersect(candidates.keySet).\n",
    "                       foreach(x => occ(candidates(x)) = occ(candidates(x)) + 1))\n",
    "        } \n",
    "    \n",
    "    val frequent_sets_k = occ.zipWithIndex.filter(x => x._1 >= support).\n",
    "                map(x => (candidates.filter(_._2 == x._2).map(_._1).flatten.toSet, x._1)).toSet\n",
    "        \n",
    "    frequent_sets_k.foreach(item => frequent_itemsets = frequent_itemsets + item)\n",
    "    print(\" - > #items = \" + frequent_sets_k.size)\n",
    "        \n",
    "    if (frequent_sets_k.size > 0) {\n",
    "        count_itemsets(source, support, k+1, frequent_sets_k.map(x => x._1)).\n",
    "                            foreach(item => frequent_itemsets = frequent_itemsets + item)\n",
    "    }\n",
    "    return frequent_itemsets\n",
    "} \n",
    "\n",
    "\n",
    "implicit def bool2int(b:Boolean) = if (b) 1 else 0\n",
    "import scala.util.control._\n",
    "import scala.collection.mutable\n",
    "\n",
    "def generate_apriori(Lk : Set[Set[Int]], k: Int): Set[Set[Int]] = {\n",
    "    \n",
    "    val inloop = new Breaks\n",
    "    var possible = Lk.flatten.subsets(k).toSet\n",
    "    \n",
    "    if (k > 2) {\n",
    "        for (cand <- possible){\n",
    "        inloop.breakable{\n",
    "        for (sub: Set[Int] <- cand.subsets(k-1)) {\n",
    "            if (Set(sub).intersect(Lk).size == 0){\n",
    "                possible -= cand\n",
    "                inloop.break\n",
    "        }}}\n",
    "    } \n",
    "    }\n",
    "    return possible\n",
    "}\n",
    "\n",
    "def association_rule(itemset: Set[(Set[Int],Int)], thr: Double): Set[(Set[Int], Set[Int], Double)] = {\n",
    "    \"\"\"\n",
    "    Algorithm for generating association rules between frequent itemsets discovered by using the \n",
    "    A-Priori algorithm in a dataset of sales transactions.\n",
    "    \n",
    "    Params:\n",
    "    - itemset: frequent itemset (output of apriori_algorithm)\n",
    "    - thr: threshold of confidence\n",
    "    \n",
    "    Returns:\n",
    "    - The association rule with confidence > threshold.\n",
    "    \"\"\"\n",
    "    \n",
    "    \n",
    "    val fr_itemsets_map = itemset.toMap\n",
    "    val tmp = fr_itemsets_map.map(items => items._1.subsets().toList.map(x => x.toList).\n",
    "                                                      drop(1).dropRight(1).map(_.toSet).\n",
    "                                map(x => (x, fr_itemsets_map(items._1).toDouble/fr_itemsets_map(x).toDouble)).\n",
    "                                    filter(x => x._2 > thr).map(rule => (rule._1, items._1.diff(rule._1),\n",
    "                                                                rule._2))).filter(x => (x.size != 0)).toSet.flatten\n",
    "    \n",
    "    tmp.foreach(rule => println(rule._1 + \" -> \" + rule._2 + \" : \" + rule._3))\n",
    "    \n",
    "    return tmp\n",
    "}"
   ]
  },
  {
   "cell_type": "markdown",
   "metadata": {},
   "source": [
    "---\n",
    "## Task 1"
   ]
  },
  {
   "cell_type": "code",
   "execution_count": 15,
   "metadata": {},
   "outputs": [
    {
     "name": "stdout",
     "output_type": "stream",
     "text": [
      "k: 1 -> Candidates 1000 - > #items = 375\n",
      "k: 2 -> Candidates 70125 - > #items = 9\n",
      "k: 3 -> Candidates 1 - > #items = 1\n",
      "k: 4 -> Candidates 0 - > #items = 0\n",
      "Frequent_itemsets (k>2): \n",
      " (Set(825, 704),1102)  (Set(829, 368),1194)  (Set(722, 390),1042)  (Set(704, 39),1107)  (Set(217, 346),1336)  (Set(825, 704, 39),1035)  (Set(825, 39),1187)  (Set(682, 368),1193)  (Set(390, 227),1049)  (Set(829, 789),1194) \n",
      "Execution time 52.8600402\n"
     ]
    },
    {
     "data": {
      "text/plain": [
       "data: String = ../data/T10I4D100K.dat\r\n",
       "frequent_itemsets: Set[(Set[Int], Int)] = Set((Set(941),1126), (Set(563),1065), (Set(354),5835), (Set(788),2386), (Set(68),1601), (Set(154),1447), (Set(716),1199), (Set(948),1149), (Set(348),1226), (Set(538),3982), (Set(349),2041), (Set(122),1081), (Set(597),2883), (Set(12),3415), (Set(571),2902), (Set(663),2354), (Set(140),2687), (Set(707),1354), (Set(862),3649), (Set(949),1414), (Set(438),4511), (Set(28),1454), (Set(181),1235), (Set(97),1466), (Set(515),1166), (Set(554),1114), (Set(797),2684), (Set(884),1645), (Set(919),3710), (Set(469),1502), (Set(294),1445), (Set(335),1345), (Set(130),1711), (Set(394),1145), (Set(461),1498), (Set(638),2288), (Set(720),3864), (Set(620),2100), (Set(530),1263), (Set(274),2628), (Set(390),2685), (Set(17),1683), (Se...\r\n"
      ]
     },
     "execution_count": 15,
     "metadata": {},
     "output_type": "execute_result"
    }
   ],
   "source": [
    "val data = \"../data/T10I4D100K.dat\"\n",
    "\n",
    "val frequent_itemsets = Apriori(data)"
   ]
  },
  {
   "cell_type": "markdown",
   "metadata": {},
   "source": [
    "## Task 2"
   ]
  },
  {
   "cell_type": "code",
   "execution_count": 16,
   "metadata": {},
   "outputs": [
    {
     "name": "stdout",
     "output_type": "stream",
     "text": [
      "Set(825, 704) -> Set(39) : 0.9392014519056261\n",
      "Set(704, 39) -> Set(825) : 0.9349593495934959\n",
      "Set(704) -> Set(825, 39) : 0.5769230769230769\n",
      "Set(227) -> Set(390) : 0.577007700770077\n",
      "Set(704) -> Set(39) : 0.617056856187291\n",
      "Set(825, 39) -> Set(704) : 0.8719460825610783\n",
      "Set(704) -> Set(825) : 0.6142697881828316\n"
     ]
    },
    {
     "data": {
      "text/plain": [
       "c: Double = 0.5\r\n",
       "res0: Set[(Set[Int], Set[Int], Double)] = Set((Set(825, 704),Set(39),0.9392014519056261), (Set(704, 39),Set(825),0.9349593495934959), (Set(704),Set(825, 39),0.5769230769230769), (Set(227),Set(390),0.577007700770077), (Set(704),Set(39),0.617056856187291), (Set(825, 39),Set(704),0.8719460825610783), (Set(704),Set(825),0.6142697881828316))\r\n"
      ]
     },
     "execution_count": 16,
     "metadata": {},
     "output_type": "execute_result"
    }
   ],
   "source": [
    "val c = 0.5 // confidence thr\n",
    "association_rule(frequent_itemsets, c)"
   ]
  }
 ],
 "metadata": {
  "kernelspec": {
   "display_name": "spylon-kernel",
   "language": "scala",
   "name": "spylon-kernel"
  },
  "language_info": {
   "codemirror_mode": "text/x-scala",
   "file_extension": ".scala",
   "help_links": [
    {
     "text": "MetaKernel Magics",
     "url": "https://metakernel.readthedocs.io/en/latest/source/README.html"
    }
   ],
   "mimetype": "text/x-scala",
   "name": "scala",
   "pygments_lexer": "scala",
   "version": "0.4.1"
  }
 },
 "nbformat": 4,
 "nbformat_minor": 4
}
