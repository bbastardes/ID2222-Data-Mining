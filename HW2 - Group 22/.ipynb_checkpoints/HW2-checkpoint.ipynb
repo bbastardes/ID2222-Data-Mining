{
 "cells": [
  {
   "cell_type": "code",
   "execution_count": 1,
   "metadata": {},
   "outputs": [
    {
     "data": {
      "text/plain": [
       "Intitializing Scala interpreter ..."
      ]
     },
     "metadata": {},
     "output_type": "display_data"
    },
    {
     "data": {
      "text/plain": [
       "Spark Web UI available at http://192.168.0.3:4040\n",
       "SparkContext available as 'sc' (version = 3.0.1, master = local[*], app id = local-1605546657647)\n",
       "SparkSession available as 'spark'\n"
      ]
     },
     "metadata": {},
     "output_type": "display_data"
    },
    {
     "data": {
      "text/plain": [
       "import org.apache.spark.SparkConf\n",
       "import org.apache.spark.SparkContext\n",
       "import org.apache.spark.rdd.RDD\n",
       "import scala.collection.mutable.ListBuffer\n"
      ]
     },
     "execution_count": 1,
     "metadata": {},
     "output_type": "execute_result"
    }
   ],
   "source": [
    "import org.apache.spark.SparkConf\n",
    "import org.apache.spark.SparkContext\n",
    "import org.apache.spark.rdd.RDD\n",
    "import scala.collection.mutable.ListBuffer\n",
    "import scala.io.Source"
   ]
  },
  {
   "cell_type": "markdown",
   "metadata": {},
   "source": [
    "## Task 1"
   ]
  },
  {
   "cell_type": "code",
   "execution_count": 38,
   "metadata": {},
   "outputs": [
    {
     "data": {
      "text/plain": [
       "warning: there was one feature warning; for details, enable `:setting -feature' or `:replay -feature'\n",
       "import scala.io.Source\n",
       "bool2int: (b: Boolean)Int\n",
       "apriori_alg: (data: String, support: Int, k: Int)List[List[Int]]\n",
       "count_itemsets: (data: String, support: Int, k: Int, candidates: List[List[Int]])List[List[Int]]\n"
      ]
     },
     "execution_count": 38,
     "metadata": {},
     "output_type": "execute_result"
    }
   ],
   "source": [
    "import scala.io.Source\n",
    "implicit def bool2int(b:Boolean) = if (b) 1 else 0\n",
    "\n",
    "def apriori_alg(data: String, support:Int, k:Int): List[List[Int]] = {\n",
    "    \n",
    "    \"\"\"\n",
    "    A-Priori algorithm for finding frequent itemsets with support at least 'support' in data.\n",
    "    \n",
    "    Params:\n",
    "    - data: path to the dataset\n",
    "    - support: support threshold\n",
    "    - k: size of the itemset\n",
    "    \n",
    "    Returns: \n",
    "    - List with the frequent itemsets (by calling the function count_itemsets).\n",
    "    \"\"\"\n",
    "    \n",
    "    val source = Source.fromFile(data)\n",
    "    val singletons = Array.fill(100000)(0)\n",
    "    val candidates = Array.range(0, 1000) \n",
    "\n",
    "    for (line <- source.getLines().map(x => x.split(\" \").map(item => item.toInt))) {\n",
    "        for (i <- candidates){\n",
    "            singletons(i) = singletons(i) + List(i).forall(line.toList.contains)\n",
    "            }\n",
    "        }\n",
    "    source.close()\n",
    "\n",
    "    val frequent_singl = singletons.zip(candidates).filter(x => (x._1 >= support)).map(item => item._2)\n",
    "    val candidates2 = frequent_singl.toSet[Int].subsets(2).map(_.toList).toList\n",
    "    \n",
    "    return count_itemsets(data, support, 2, candidates2)\n",
    "}\n",
    " \n",
    "\n",
    "\n",
    "def count_itemsets(data: String, support:Int, k:Int, candidates: List[List[Int]]): List[List[Int]] = {\n",
    "    \"\"\"\n",
    "    Recursive function which searchs for frequent itemsets with k>1.\n",
    "    \n",
    "    Params:\n",
    "    - data: path to dataset\n",
    "    - support: support threshold\n",
    "    - k: size of the itemset\n",
    "    - candidates: possible frequent itemset\n",
    "    \n",
    "    Returns:\n",
    "    - frequent_itemsets\n",
    "    \"\"\"\n",
    "    \n",
    "    var i = 0\n",
    "    val occurrences = Array.fill(candidates.size)(0)\n",
    "    val frequent_itemsets = new ListBuffer[(List[List[Int]])]()\n",
    "    \n",
    "    println(\"open source\",k)\n",
    "    val source = Source.fromFile(data)\n",
    "    for (line <- source.getLines().map(x => x.split(\" \").map(item => item.toInt))) {\n",
    "        if (i%1000 == 0){\n",
    "        println(\"lines done \",i)\n",
    "        }\n",
    "        for (item <- candidates.zipWithIndex) {\n",
    "            occurrences(item._2) = occurrences(item._2)  + item._1.forall(line.toList.contains)\n",
    "        }\n",
    "        i = i + 1\n",
    "    }\n",
    "    source.close()\n",
    "    println(\"close source\",k)\n",
    "    \n",
    "    val frequent_sets_k = occurrences.zip(candidates).filter(x => (x._1 >= support)).map(item => item._2).toList\n",
    "    frequent_itemsets += frequent_sets_k\n",
    "    \n",
    "    if (frequent_sets_k.size >1) {\n",
    "        val candidates2 = frequent_sets_k.flatten.toSet[Int].subsets(k+1).map(_.toList).toList\n",
    "        \n",
    "        frequent_itemsets += count_itemsets(data, support, k+1, candidates2)\n",
    "    }\n",
    "    \n",
    "    return frequent_itemsets.toList.flatten\n",
    "} \n"
   ]
  },
  {
   "cell_type": "code",
   "execution_count": 22,
   "metadata": {},
   "outputs": [
    {
     "data": {
      "text/plain": [
       "data: String = data/T10I4D100K.dat\n",
       "support: Int = 1000\n"
      ]
     },
     "execution_count": 22,
     "metadata": {},
     "output_type": "execute_result"
    }
   ],
   "source": [
    "// parameters \n",
    "val data = \"data/T10I4D100K.dat\"\n",
    "val support = 1000\n",
    "val k = 1"
   ]
  },
  {
   "cell_type": "code",
   "execution_count": 40,
   "metadata": {},
   "outputs": [
    {
     "name": "stdout",
     "output_type": "stream",
     "text": [
      "(open source,2)\n",
      "(lines done ,0)\n",
      "(lines done ,1000)\n",
      "(lines done ,2000)\n",
      "(lines done ,3000)\n",
      "(lines done ,4000)\n",
      "(lines done ,5000)\n",
      "(lines done ,6000)\n",
      "(lines done ,7000)\n",
      "(lines done ,8000)\n",
      "(lines done ,9000)\n",
      "(lines done ,10000)\n",
      "(lines done ,11000)\n",
      "(lines done ,12000)\n",
      "(lines done ,13000)\n",
      "(lines done ,14000)\n",
      "(lines done ,15000)\n",
      "(lines done ,16000)\n",
      "(lines done ,17000)\n",
      "(lines done ,18000)\n",
      "(lines done ,19000)\n",
      "(lines done ,20000)\n",
      "(lines done ,21000)\n",
      "(lines done ,22000)\n",
      "(lines done ,23000)\n",
      "(lines done ,24000)\n",
      "(lines done ,25000)\n",
      "(lines done ,26000)\n",
      "(lines done ,27000)\n",
      "(lines done ,28000)\n",
      "(lines done ,29000)\n",
      "(lines done ,30000)\n",
      "(lines done ,31000)\n",
      "(lines done ,32000)\n",
      "(lines done ,33000)\n",
      "(lines done ,34000)\n",
      "(lines done ,35000)\n",
      "(lines done ,36000)\n",
      "(lines done ,37000)\n",
      "(lines done ,38000)\n",
      "(lines done ,39000)\n",
      "(lines done ,40000)\n",
      "(lines done ,41000)\n",
      "(lines done ,42000)\n",
      "(lines done ,43000)\n",
      "(lines done ,44000)\n",
      "(lines done ,45000)\n",
      "(lines done ,46000)\n",
      "(lines done ,47000)\n",
      "(lines done ,48000)\n",
      "(lines done ,49000)\n",
      "(lines done ,50000)\n",
      "(lines done ,51000)\n",
      "(lines done ,52000)\n",
      "(lines done ,53000)\n",
      "(lines done ,54000)\n",
      "(lines done ,55000)\n",
      "(lines done ,56000)\n",
      "(lines done ,57000)\n",
      "(lines done ,58000)\n",
      "(lines done ,59000)\n",
      "(lines done ,60000)\n",
      "(lines done ,61000)\n",
      "(lines done ,62000)\n",
      "(lines done ,63000)\n",
      "(lines done ,64000)\n",
      "(lines done ,65000)\n",
      "(lines done ,66000)\n",
      "(lines done ,67000)\n",
      "(lines done ,68000)\n",
      "(lines done ,69000)\n",
      "(lines done ,70000)\n",
      "(lines done ,71000)\n",
      "(lines done ,72000)\n",
      "(lines done ,73000)\n",
      "(lines done ,74000)\n",
      "(lines done ,75000)\n",
      "(lines done ,76000)\n",
      "(lines done ,77000)\n",
      "(lines done ,78000)\n",
      "(lines done ,79000)\n",
      "(lines done ,80000)\n",
      "(lines done ,81000)\n",
      "(lines done ,82000)\n",
      "(lines done ,83000)\n",
      "(lines done ,84000)\n",
      "(lines done ,85000)\n",
      "(lines done ,86000)\n",
      "(lines done ,87000)\n",
      "(lines done ,88000)\n",
      "(lines done ,89000)\n",
      "(lines done ,90000)\n",
      "(lines done ,91000)\n",
      "(lines done ,92000)\n",
      "(lines done ,93000)\n",
      "(lines done ,94000)\n",
      "(lines done ,95000)\n",
      "(lines done ,96000)\n",
      "(lines done ,97000)\n",
      "(lines done ,98000)\n",
      "(lines done ,99000)\n",
      "(close source,2)\n",
      "(open source,3)\n",
      "(lines done ,0)\n",
      "(lines done ,1000)\n",
      "(lines done ,2000)\n",
      "(lines done ,3000)\n",
      "(lines done ,4000)\n",
      "(lines done ,5000)\n",
      "(lines done ,6000)\n",
      "(lines done ,7000)\n",
      "(lines done ,8000)\n",
      "(lines done ,9000)\n",
      "(lines done ,10000)\n",
      "(lines done ,11000)\n",
      "(lines done ,12000)\n",
      "(lines done ,13000)\n",
      "(lines done ,14000)\n",
      "(lines done ,15000)\n",
      "(lines done ,16000)\n",
      "(lines done ,17000)\n",
      "(lines done ,18000)\n",
      "(lines done ,19000)\n",
      "(lines done ,20000)\n",
      "(lines done ,21000)\n",
      "(lines done ,22000)\n",
      "(lines done ,23000)\n",
      "(lines done ,24000)\n",
      "(lines done ,25000)\n",
      "(lines done ,26000)\n",
      "(lines done ,27000)\n",
      "(lines done ,28000)\n",
      "(lines done ,29000)\n",
      "(lines done ,30000)\n",
      "(lines done ,31000)\n",
      "(lines done ,32000)\n",
      "(lines done ,33000)\n",
      "(lines done ,34000)\n",
      "(lines done ,35000)\n",
      "(lines done ,36000)\n",
      "(lines done ,37000)\n",
      "(lines done ,38000)\n",
      "(lines done ,39000)\n",
      "(lines done ,40000)\n",
      "(lines done ,41000)\n",
      "(lines done ,42000)\n",
      "(lines done ,43000)\n",
      "(lines done ,44000)\n",
      "(lines done ,45000)\n",
      "(lines done ,46000)\n",
      "(lines done ,47000)\n",
      "(lines done ,48000)\n",
      "(lines done ,49000)\n",
      "(lines done ,50000)\n",
      "(lines done ,51000)\n",
      "(lines done ,52000)\n",
      "(lines done ,53000)\n",
      "(lines done ,54000)\n",
      "(lines done ,55000)\n",
      "(lines done ,56000)\n",
      "(lines done ,57000)\n",
      "(lines done ,58000)\n",
      "(lines done ,59000)\n",
      "(lines done ,60000)\n",
      "(lines done ,61000)\n",
      "(lines done ,62000)\n",
      "(lines done ,63000)\n",
      "(lines done ,64000)\n",
      "(lines done ,65000)\n",
      "(lines done ,66000)\n",
      "(lines done ,67000)\n",
      "(lines done ,68000)\n",
      "(lines done ,69000)\n",
      "(lines done ,70000)\n",
      "(lines done ,71000)\n",
      "(lines done ,72000)\n",
      "(lines done ,73000)\n",
      "(lines done ,74000)\n",
      "(lines done ,75000)\n",
      "(lines done ,76000)\n",
      "(lines done ,77000)\n",
      "(lines done ,78000)\n",
      "(lines done ,79000)\n",
      "(lines done ,80000)\n",
      "(lines done ,81000)\n",
      "(lines done ,82000)\n",
      "(lines done ,83000)\n",
      "(lines done ,84000)\n",
      "(lines done ,85000)\n",
      "(lines done ,86000)\n",
      "(lines done ,87000)\n",
      "(lines done ,88000)\n",
      "(lines done ,89000)\n",
      "(lines done ,90000)\n",
      "(lines done ,91000)\n",
      "(lines done ,92000)\n",
      "(lines done ,93000)\n",
      "(lines done ,94000)\n",
      "(lines done ,95000)\n",
      "(lines done ,96000)\n",
      "(lines done ,97000)\n",
      "(lines done ,98000)\n",
      "(lines done ,99000)\n",
      "(close source,3)\n"
     ]
    },
    {
     "data": {
      "text/plain": [
       "frequent_itmsets: List[List[Int]] = List(List(217, 346), List(829, 789), List(829, 368), List(825, 704), List(825, 39), List(682, 368), List(704, 39), List(722, 390), List(390, 227), List(825, 704, 39))\n"
      ]
     },
     "execution_count": 40,
     "metadata": {},
     "output_type": "execute_result"
    }
   ],
   "source": [
    "val frequent_itmsets = apriori_alg(data, support, k)"
   ]
  },
  {
   "cell_type": "markdown",
   "metadata": {},
   "source": [
    "## Task 2"
   ]
  },
  {
   "cell_type": "code",
   "execution_count": 41,
   "metadata": {},
   "outputs": [
    {
     "name": "stdout",
     "output_type": "stream",
     "text": [
      "\n",
      "DONE\n"
     ]
    },
    {
     "data": {
      "text/plain": [
       "items: List[List[Int]] = List(List(217), List(346), List(829), List(789), List(829), List(368), List(825), List(704), List(825), List(39), List(682), List(368), List(704), List(39), List(722), List(390), List(390), List(227), List(825), List(704), List(39), List(217, 346), List(829, 789), List(829, 368), List(825, 704), List(825, 39), List(682, 368), List(704, 39), List(722, 390), List(390, 227), List(825, 704, 39))\n",
       "occurrences: Array[Int] = Array(5375, 3470, 6810, 4309, 6810, 7828, 3085, 1794, 3085, 4258, 4132, 7828, 1794, 4258, 5845, 2685, 2685, 1818, 3085, 1794, 4258, 1336, 1194, 1194, 1102, 1187, 1193, 1107, 1042, 1049, 1035)\n",
       "source: scala.io.BufferedSource = <iterator>\n"
      ]
     },
     "execution_count": 41,
     "metadata": {},
     "output_type": "execute_result"
    }
   ],
   "source": [
    "val items = frequent_itmsets.flatten.map(x => List(x)) ::: frequent_itmsets\n",
    "val occurrences = Array.fill(items.size)(0)\n",
    "val source = Source.fromFile(data)\n",
    "\n",
    "for (line <- source.getLines().map(x => x.split(\" \").map(item => item.toInt))) {\n",
    "    for (item <- items.zipWithIndex) {\n",
    "                occurrences(item._2) = occurrences(item._2)  + item._1.forall(line.toList.contains)\n",
    "    }\n",
    "}\n",
    "source.close()\n",
    "println(\"\\nDONE\")"
   ]
  },
  {
   "cell_type": "code",
   "execution_count": 58,
   "metadata": {},
   "outputs": [
    {
     "data": {
      "text/plain": [
       "<console>:66: warning: a pure expression does nothing in statement position; multiline expressions might require enclosing parentheses\n",
       "           \"\"\"\n",
       "           ^\n",
       "association_rule: (itemset: List[Int], support_set: List[(List[Int], Int)], thr: Double)Int\n"
      ]
     },
     "execution_count": 58,
     "metadata": {},
     "output_type": "execute_result"
    }
   ],
   "source": [
    "def association_rule(itemset: List[Int], support_set: List[(List[Int], Int)], thr: Double): Int = {\n",
    "    \"\"\"\n",
    "    Algorithm for generating association rules between frequent itemsets discovered by using the \n",
    "    A-Priori algorithm in a dataset of sales transactions.\n",
    "    \n",
    "    Params:\n",
    "    - itemset: single frequent itemset\n",
    "    - support_set: contains the support of each element of the itemsets\n",
    "    - th: threshold of confidence\n",
    "    \n",
    "    Returns:\n",
    "    - Prints the association rule with confidence > threshold.\n",
    "    \"\"\"\n",
    "    \n",
    "    //println(\"Itemset: $itemset\")\n",
    "    val left_rule = itemset.toSet[Int].subsets().map(_.toList).toList.drop(1).dropRight(1)\n",
    "    val num = support_set.filter(x => x._1 == itemset).map(x => x._2: Double)\n",
    "    for (i <- left_rule){\n",
    "        val den = support_set.filter(x => x._1 == i).map(x => x._2: Double)\n",
    "        val confidence: Double = num(0)/den(0)\n",
    "        val right_rule = itemset diff i\n",
    "        if (confidence>= thr) {\n",
    "            println(f\"{$i} -> {$right_rule}: $confidence\")\n",
    "        }\n",
    "    }\n",
    "    return 0\n",
    "}"
   ]
  },
  {
   "cell_type": "code",
   "execution_count": 59,
   "metadata": {},
   "outputs": [
    {
     "name": "stdout",
     "output_type": "stream",
     "text": [
      "{List(704)} -> {List(825)}: 0.6142697881828316\n",
      "{List(704)} -> {List(39)}: 0.617056856187291\n",
      "{List(227)} -> {List(390)}: 0.577007700770077\n",
      "{List(704)} -> {List(825, 39)}: 0.5769230769230769\n",
      "{List(825, 704)} -> {List(39)}: 0.9392014519056261\n",
      "{List(825, 39)} -> {List(704)}: 0.8719460825610783\n",
      "{List(704, 39)} -> {List(825)}: 0.9349593495934959\n"
     ]
    },
    {
     "data": {
      "text/plain": [
       "c: Double = 0.5\n"
      ]
     },
     "execution_count": 59,
     "metadata": {},
     "output_type": "execute_result"
    }
   ],
   "source": [
    "val c = 0.5 // confidence thr\n",
    "frequent_itmsets.foreach{association_rule(_, items.zip(occurrences), c)}"
   ]
  },
  {
   "cell_type": "code",
   "execution_count": null,
   "metadata": {},
   "outputs": [],
   "source": []
  }
 ],
 "metadata": {
  "kernelspec": {
   "display_name": "spylon-kernel",
   "language": "scala",
   "name": "spylon-kernel"
  },
  "language_info": {
   "codemirror_mode": "text/x-scala",
   "file_extension": ".scala",
   "help_links": [
    {
     "text": "MetaKernel Magics",
     "url": "https://metakernel.readthedocs.io/en/latest/source/README.html"
    }
   ],
   "mimetype": "text/x-scala",
   "name": "scala",
   "pygments_lexer": "scala",
   "version": "0.4.1"
  }
 },
 "nbformat": 4,
 "nbformat_minor": 4
}
