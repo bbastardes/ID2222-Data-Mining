{
 "cells": [
  {
   "cell_type": "code",
   "execution_count": 1,
   "metadata": {
    "scrolled": false
   },
   "outputs": [
    {
     "data": {
      "text/plain": [
       "Intitializing Scala interpreter ..."
      ]
     },
     "metadata": {},
     "output_type": "display_data"
    },
    {
     "data": {
      "text/plain": [
       "Spark Web UI available at http://192.168.0.2:4040\n",
       "SparkContext available as 'sc' (version = 3.0.1, master = local[*], app id = local-1606133288157)\n",
       "SparkSession available as 'spark'\n"
      ]
     },
     "metadata": {},
     "output_type": "display_data"
    },
    {
     "data": {
      "text/plain": [
       "warning: there was one feature warning; for details, enable `:setting -feature' or `:replay -feature'\n",
       "import scala.io.Source\n",
       "import scala.util.control._\n",
       "bool2int: (b: Boolean)Int\n",
       "import scala.collection.mutable.Map\n"
      ]
     },
     "execution_count": 1,
     "metadata": {},
     "output_type": "execute_result"
    }
   ],
   "source": [
    "import scala.io.Source\n",
    "import scala.util.control._\n",
    "implicit def bool2int(b:Boolean) = if (b) 1 else 0\n",
    "import scala.collection.mutable.Map"
   ]
  },
  {
   "cell_type": "code",
   "execution_count": 2,
   "metadata": {},
   "outputs": [
    {
     "data": {
      "text/plain": [
       "data: String = ./data/facebook_combined.txt\n"
      ]
     },
     "execution_count": 2,
     "metadata": {},
     "output_type": "execute_result"
    }
   ],
   "source": [
    "val data = \"./data/facebook_combined.txt\""
   ]
  },
  {
   "cell_type": "code",
   "execution_count": 3,
   "metadata": {},
   "outputs": [
    {
     "data": {
      "text/plain": [
       "defined class BaseAlgorithm\n"
      ]
     },
     "execution_count": 3,
     "metadata": {},
     "output_type": "execute_result"
    }
   ],
   "source": [
    "class BaseAlgorithm (data: String) {\n",
    "    \n",
    "    val source = sc.textFile(data).map(x => x.split(\" \")).map(item => Set[Int](item(0).toInt, item(1).toInt)).collect.toSet\n",
    "    val M: Long = 5000\n",
    "    var t: Long = 0\n",
    "    val r = scala.util.Random\n",
    "    var S = Set[Set[Int]]()\n",
    "    var tr = 0\n",
    "    \n",
    "    var nodes_map = scala.collection.mutable.Map[Int, Int]()\n",
    "    sc.textFile(data).map(x => x.split(\" \")).collect.flatten.distinct.map(_.toInt).foreach(x => nodes_map(x) = 0)\n",
    "    \n",
    "    def execute(): (Map[Int,Int], Int, Long) = {\n",
    "        \n",
    "        for (edge <- source){\n",
    "            t = t+1\n",
    "            if (SampleEdge(edge, t.toInt) == true){\n",
    "                S += edge\n",
    "                UpdateCounters(+1, edge)\n",
    "            }\n",
    "            \n",
    "            if (t%10000 == 0){\n",
    "                println(f\"Processed $t edges.\")\n",
    "            }\n",
    "        }\n",
    "        \n",
    "        val csi: Long = (1.0.toLong).max((t*(t-1)*(t-2))/((M*(M-1)*(M-2))))\n",
    "        \n",
    "        println(\"Estimated triangles: \"+ csi*tr) \n",
    "        \n",
    "        return (nodes_map, tr, csi)\n",
    "    }\n",
    "    \n",
    "    def FlipBiasedCoin(p: Double): Boolean = {\n",
    "        if (r.nextInt(100).toDouble < p*100){\n",
    "            return true\n",
    "        } \n",
    "        return false\n",
    "    }\n",
    "    \n",
    "    def SampleEdge(edge: Set[Int], t: Int): Boolean = {\n",
    "        if (t <= M){\n",
    "            return true\n",
    "        } else if (FlipBiasedCoin(M.toDouble/t.toDouble) == true){\n",
    "            val indx = r.nextInt(M.toInt-1)\n",
    "            val edge_r = S.toSeq(indx).toSet\n",
    "            S -= edge_r\n",
    "            //println(f\"Removed edge: $edge_r\")\n",
    "            UpdateCounters(-1, edge_r)\n",
    "\n",
    "            return true\n",
    "        } \n",
    "        return false\n",
    "    }\n",
    "    \n",
    "    def UpdateCounters(op: Int, edge: Set[Int]) = {\n",
    "        //println(f\"Computing neighbours of $edge\")\n",
    "        val neig_u_v = S.filter(x => x.intersect(Set(edge.toSeq(0))).size>0).flatten.intersect(\n",
    "            S.filter(x => x.intersect(Set(edge.toSeq(1))).size>0).flatten).diff(edge)\n",
    "        neig_u_v.foreach(c => nodes_map(c) += op)\n",
    "        tr = tr + op*neig_u_v.size\n",
    "        nodes_map(edge.toSeq(0)) += op*neig_u_v.size\n",
    "        nodes_map(edge.toSeq(1)) += op*neig_u_v.size\n",
    "    }\n",
    "}"
   ]
  },
  {
   "cell_type": "code",
   "execution_count": 4,
   "metadata": {},
   "outputs": [
    {
     "data": {
      "text/plain": [
       "import scala.math.max\n",
       "defined class ImprAlgorithm\n"
      ]
     },
     "execution_count": 4,
     "metadata": {},
     "output_type": "execute_result"
    }
   ],
   "source": [
    "import scala.math.max\n",
    "class ImprAlgorithm (data: String) {\n",
    "    \n",
    "    val source = sc.textFile(data).map(x => x.split(\" \")).map(item => Set[Int](item(0).toInt, item(1).toInt)).collect.toSet\n",
    "    val M: Long = 5000\n",
    "    var t: Long = 0\n",
    "    val r = scala.util.Random\n",
    "    var S = Set[Set[Int]]()\n",
    "    var tr = 0.0\n",
    "    \n",
    "    var nodes_map = scala.collection.mutable.Map[Int, Double]()\n",
    "    sc.textFile(data).map(x => x.split(\" \")).collect.flatten.distinct.map(_.toInt).foreach(x => nodes_map(x) = 0.0)\n",
    "    \n",
    "    def execute(): (Map[Int,Double], Double) = {\n",
    "        \n",
    "        for (edge <- source){\n",
    "            t = t+1\n",
    "            UpdateCounters(+1, edge)\n",
    "            if (SampleEdge(edge, t.toInt) == true){\n",
    "                S += edge\n",
    "            }\n",
    "            if (t%10000 == 0){\n",
    "                println(f\"Processed $t edges.\")\n",
    "            }\n",
    "        }\n",
    "        \n",
    "        println(f\"Estimated triangles: $tr\")\n",
    "        \n",
    "        return (nodes_map, tr)\n",
    "    }\n",
    "    \n",
    "    def FlipBiasedCoin(p: Double): Boolean = {\n",
    "        if (r.nextInt(100).toDouble < p*100){\n",
    "            return true\n",
    "        } \n",
    "        return false\n",
    "    }\n",
    "    \n",
    "    def SampleEdge(edge: Set[Int], t: Int): Boolean = {\n",
    "        if (t <= M){\n",
    "            return true\n",
    "        } else if (FlipBiasedCoin(M.toDouble/t.toDouble) == true){\n",
    "            val indx = r.nextInt(M.toInt-1)\n",
    "            val edge_r = S.toSeq(indx).toSet\n",
    "            S -= edge_r\n",
    "            //UpdateCounters(-1, edge_r)\n",
    "\n",
    "            return true\n",
    "        } \n",
    "        return false\n",
    "    }\n",
    "    \n",
    "    def UpdateCounters(op: Int, edge: Set[Int]) = {\n",
    "        val neig_u_v = S.filter(x => x.intersect(Set(edge.toSeq(0))).size>0).flatten.intersect(\n",
    "            S.filter(x => x.intersect(Set(edge.toSeq(1))).size>0).flatten).diff(edge)\n",
    "        val eta = (1.0).max(((t - 1)*(t - 2)).toDouble)/(M*(M - 1)).toDouble\n",
    "        neig_u_v.foreach(c => nodes_map(c) += op*eta)\n",
    "        tr = tr + op*eta*neig_u_v.size\n",
    "        nodes_map(edge.toSeq(0)) += op*eta*neig_u_v.size\n",
    "        nodes_map(edge.toSeq(1)) += op*eta*neig_u_v.size\n",
    "    }\n",
    "}"
   ]
  },
  {
   "cell_type": "markdown",
   "metadata": {},
   "source": [
    "## Base algorithm"
   ]
  },
  {
   "cell_type": "code",
   "execution_count": 5,
   "metadata": {},
   "outputs": [
    {
     "name": "stdout",
     "output_type": "stream",
     "text": [
      "Processed 10000 edges.\n",
      "Processed 20000 edges.\n",
      "Processed 30000 edges.\n",
      "Processed 40000 edges.\n",
      "Processed 50000 edges.\n",
      "Processed 60000 edges.\n",
      "Processed 70000 edges.\n",
      "Processed 80000 edges.\n",
      "Estimated triangles: 1781352\n",
      "\n",
      "Execution time 195.304166302\n"
     ]
    },
    {
     "data": {
      "text/plain": [
       "t1: Long = 746274943941205\n",
       "base: BaseAlgorithm = BaseAlgorithm@41d63cb2\n",
       "a: (scala.collection.mutable.Map[Int,Int], Int, Long) = (Map(3672 -> 0, 3331 -> 0, 2990 -> 0, 3744 -> 0, 3026 -> 0, 2685 -> 0, 3340 -> 0, 2344 -> 0, 3753 -> 0, 2353 -> 0, 2012 -> 0, 137 -> 0, 3107 -> 0, 2021 -> 0, 891 -> 0, 1205 -> 1, 550 -> 0, 146 -> 0, 864 -> 0, 2775 -> 0, 559 -> 0, 3959 -> 0, 218 -> 0, 3995 -> 0, 3654 -> 0, 568 -> 0, 3968 -> 0, 3627 -> 0, 227 -> 0, 1752 -> 1, 3322 -> 0, 2981 -> 0, 2640 -> 0, 765 -> 0, 2649 -> 0, 1833 -> 2, 1115 -> 0, 774 -> 0, 433 -> 0, 92 -> 0, 3403 -> 0, 1528 -> 0, 1187 -> 0, 1501 -> 0, 846 -> 0, 1160 -> 1, 442 -> 0, 101 -> 0, 1196 -> 0, 200 -> 0, 855 -> 0, 514 -> 1, 3062 -> 0, 173 -> 0, 2721 -> 1, 2380 -> 0, 3950 -> 0, 209 -> 0, 523 -> 0, 3609 -> 0, 182 -> 0, 1393 -> 0, 1707 -...\n"
      ]
     },
     "execution_count": 5,
     "metadata": {},
     "output_type": "execute_result"
    }
   ],
   "source": [
    "val t1 = System.nanoTime\n",
    "val base = new BaseAlgorithm(data)\n",
    "val a = base.execute()\n",
    "println(\"\\nExecution time \" + (System.nanoTime - t1) / 1e9)"
   ]
  },
  {
   "cell_type": "markdown",
   "metadata": {},
   "source": [
    "## Improved algorithm"
   ]
  },
  {
   "cell_type": "code",
   "execution_count": 6,
   "metadata": {},
   "outputs": [
    {
     "name": "stdout",
     "output_type": "stream",
     "text": [
      "Processed 10000 edges.\n",
      "Processed 20000 edges.\n",
      "Processed 30000 edges.\n",
      "Processed 40000 edges.\n",
      "Processed 50000 edges.\n",
      "Processed 60000 edges.\n",
      "Processed 70000 edges.\n",
      "Processed 80000 edges.\n",
      "Estimated triangles: 1633637.92892779\n",
      "\n",
      "Execution time 507.458753448\n"
     ]
    },
    {
     "data": {
      "text/plain": [
       "t1: Long = 746470665435001\n",
       "impr: ImprAlgorithm = ImprAlgorithm@7d70388f\n",
       "b: (scala.collection.mutable.Map[Int,Double], Double) = (Map(3672 -> 128.2020026405281, 3331 -> 0.7313422684536908, 2990 -> 0.0, 3744 -> 0.0, 3026 -> 3178.754043848769, 2685 -> 0.0, 3340 -> 0.0, 2344 -> 8688.914359911982, 3753 -> 854.1004808161633, 2353 -> 1949.7635377475494, 2012 -> 33.95417691538308, 137 -> 0.0, 3107 -> 421.95712342468494, 2021 -> 454.2745486697339, 891 -> 0.0, 1205 -> 3714.8941386677325, 550 -> 0.0, 146 -> 0.0, 864 -> 0.0, 2775 -> 168.4336203240648, 559 -> 1376.9083879175835, 3959 -> 0.0, 218 -> 0.0, 3995 -> 0.0, 3654 -> 0.0, 568 -> 0.0, 3968 -> 1416.0022045209043, 3627 -> 451.59441600320065, 227 -> 0.0, 1752 -> 3872.972745669133, 3322 -> 80.84525929185837, 2981 -> 0.0, 2640 -> 989.0863942388478,...\n"
      ]
     },
     "execution_count": 6,
     "metadata": {},
     "output_type": "execute_result"
    }
   ],
   "source": [
    "val t1 = System.nanoTime\n",
    "val impr = new ImprAlgorithm(data)\n",
    "val b = impr.execute()\n",
    "println(\"\\nExecution time \" + (System.nanoTime - t1) / 1e9)\n"
   ]
  },
  {
   "cell_type": "code",
   "execution_count": null,
   "metadata": {},
   "outputs": [],
   "source": []
  }
 ],
 "metadata": {
  "kernelspec": {
   "display_name": "spylon-kernel",
   "language": "scala",
   "name": "spylon-kernel"
  },
  "language_info": {
   "codemirror_mode": "text/x-scala",
   "file_extension": ".scala",
   "help_links": [
    {
     "text": "MetaKernel Magics",
     "url": "https://metakernel.readthedocs.io/en/latest/source/README.html"
    }
   ],
   "mimetype": "text/x-scala",
   "name": "scala",
   "pygments_lexer": "scala",
   "version": "0.4.1"
  }
 },
 "nbformat": 4,
 "nbformat_minor": 4
}
