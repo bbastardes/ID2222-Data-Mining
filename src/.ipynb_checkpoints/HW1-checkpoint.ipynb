{
 "cells": [
  {
   "cell_type": "code",
   "execution_count": 1,
   "metadata": {},
   "outputs": [
    {
     "data": {
      "text/plain": [
       "Intitializing Scala interpreter ..."
      ]
     },
     "metadata": {},
     "output_type": "display_data"
    },
    {
     "data": {
      "text/plain": [
       "Spark Web UI available at http://n146-p214.eduroam.kth.se:4040\n",
       "SparkContext available as 'sc' (version = 3.0.1, master = local[*], app id = local-1604660179706)\n",
       "SparkSession available as 'spark'\n"
      ]
     },
     "metadata": {},
     "output_type": "display_data"
    },
    {
     "data": {
      "text/plain": [
       "import org.apache.spark.SparkConf\n",
       "import org.apache.spark.SparkContext\n",
       "import org.apache.spark.rdd.RDD\n"
      ]
     },
     "execution_count": 1,
     "metadata": {},
     "output_type": "execute_result"
    }
   ],
   "source": [
    "import org.apache.spark.SparkConf\n",
    "import org.apache.spark.SparkContext\n",
    "import org.apache.spark.rdd.RDD\n"
   ]
  },
  {
   "cell_type": "code",
   "execution_count": 14,
   "metadata": {},
   "outputs": [
    {
     "data": {
      "text/plain": [
       "defined class Shingle\n"
      ]
     },
     "execution_count": 14,
     "metadata": {},
     "output_type": "execute_result"
    }
   ],
   "source": [
    "class Shingle {\n",
    "    \n",
    "    def createshingles(path: String, k:Int) : RDD[(String, Set[Int])] = {\n",
    "        val files = sc.wholeTextFiles(path).map({ case (path, text) => (path.split(\"/\").last, text) })\n",
    "                                            .mapValues(_.replace(\",\", \"\"))\n",
    "                                            .mapValues(_.replace(\".\", \"\"))\n",
    "                                            .mapValues(_.replace(\"?\", \"\"))\n",
    "                                            .mapValues(_.replace(\"!\", \"\"))\n",
    "        val shingles = files.flatMapValues { case (str) => str.grouped(k)\n",
    "        }  \n",
    "\n",
    "        return shingles.mapValues(str => str.hashCode()).groupByKey().mapValues(x => x.toSet)\n",
    "    }\n",
    "}"
   ]
  },
  {
   "cell_type": "code",
   "execution_count": 15,
   "metadata": {},
   "outputs": [
    {
     "data": {
      "text/plain": [
       "defined class CompareSet\n"
      ]
     },
     "execution_count": 15,
     "metadata": {},
     "output_type": "execute_result"
    }
   ],
   "source": [
    "class CompareSet {\n",
    "  def JaccardSimilarity(set1: Set[(Int)], set2: Set[(Int)]) : Double = {\n",
    "    return (set1.intersect(set2).size) / (set1.union(set2).size).toDouble\n",
    "  }\n",
    "}"
   ]
  },
  {
   "cell_type": "code",
   "execution_count": 16,
   "metadata": {},
   "outputs": [
    {
     "data": {
      "text/plain": [
       "path: String = ../data/\n",
       "k: Int = 5\n"
      ]
     },
     "execution_count": 16,
     "metadata": {},
     "output_type": "execute_result"
    }
   ],
   "source": [
    "// parameters\n",
    "\n",
    "val path = \"../data/\"\n",
    "val k = 5"
   ]
  },
  {
   "cell_type": "code",
   "execution_count": 17,
   "metadata": {},
   "outputs": [
    {
     "name": "stdout",
     "output_type": "stream",
     "text": [
      "[Lscala.Tuple2;@1c344966"
     ]
    },
    {
     "data": {
      "text/plain": [
       "shing: Shingle = Shingle@5be29caf\n",
       "shingles: org.apache.spark.rdd.RDD[(String, Set[Int])] = MapPartitionsRDD[26] at mapValues at <console>:27\n",
       "s: Array[(String, Set[Int])] = Array((4.txt,Set(115183344, 93195030, 32958591, 110, 97338070, 100429751, 75465048, 110342734, 108196697, 96891479, 107943990, 110353171, 111969555, 108721300, 33111535, 106017966, 32551241, 96288838, 108563158, 110324853, 79889178, 95248871, 98328498, 92416014, 94844357, 33116188, 95677843, 106782158, 106848801, 98333499, 111427807, 98240814, 94338798, 32576633, 97436022, 101967247, 93071254, 99953432, 110250127, 93740272, 106855870, 100020062, 32792345, 112809218, 105848030, 96666512, 105884438)), (2.txt,Set(104600367, 105821860, 94639943, 113141786, 110260728, 90634673, 93406292, 75329205, 45846697, 93141749, 32695...\n"
      ]
     },
     "execution_count": 17,
     "metadata": {},
     "output_type": "execute_result"
    }
   ],
   "source": [
    "// Create shingles\n",
    "\n",
    "val shing = new Shingle\n",
    "val shingles = shing.createshingles(path,k)\n",
    "val s = shingles.collect()\n"
   ]
  },
  {
   "cell_type": "code",
   "execution_count": 115,
   "metadata": {},
   "outputs": [
    {
     "name": "stdout",
     "output_type": "stream",
     "text": [
      "(4.txt,2.txt):0.0\n",
      "(4.txt,0.txt):0.00980392156862745\n",
      "(4.txt,3.txt):0.06741573033707865\n",
      "(4.txt,5.txt):0.04597701149425287\n",
      "(2.txt,2.txt):1.0\n",
      "(2.txt,0.txt):0.0\n",
      "(2.txt,3.txt):0.0\n",
      "(2.txt,5.txt):0.0\n",
      "(0.txt,2.txt):0.0\n",
      "(0.txt,0.txt):1.0\n",
      "(0.txt,3.txt):0.009900990099009901\n",
      "(0.txt,5.txt):0.0\n",
      "(3.txt,2.txt):0.0\n",
      "(3.txt,0.txt):0.009900990099009901\n",
      "(3.txt,3.txt):1.0\n",
      "(3.txt,5.txt):0.0\n",
      "(5.txt,2.txt):0.0\n",
      "(5.txt,0.txt):0.0\n",
      "(5.txt,3.txt):0.0\n",
      "(5.txt,5.txt):1.0\n",
      "(1.txt,2.txt):0.06818181818181818\n",
      "(1.txt,0.txt):0.0\n",
      "(1.txt,3.txt):0.0\n",
      "(1.txt,5.txt):0.0\n"
     ]
    },
    {
     "data": {
      "text/plain": [
       "similarity: CompareSet = CompareSet@cc45993\n"
      ]
     },
     "execution_count": 115,
     "metadata": {},
     "output_type": "execute_result"
    }
   ],
   "source": [
    "// Compute similarity\n",
    "\n",
    "val similarity = new CompareSet\n",
    "\n",
    "for( i <- 0 to 5 ){\n",
    "    for (j <- 1 to 4){\n",
    "        val sim = similarity.JaccardSimilarity(s(i)._2,s(j)._2)\n",
    "        println(\"(\"+s(i)._1+\",\"+s(j)._1+\"):\"+sim)\n",
    "    }\n",
    "}"
   ]
  },
  {
   "cell_type": "code",
   "execution_count": null,
   "metadata": {},
   "outputs": [],
   "source": []
  },
  {
   "cell_type": "code",
   "execution_count": null,
   "metadata": {},
   "outputs": [],
   "source": []
  }
 ],
 "metadata": {
  "kernelspec": {
   "display_name": "spylon-kernel",
   "language": "scala",
   "name": "spylon-kernel"
  },
  "language_info": {
   "codemirror_mode": "text/x-scala",
   "file_extension": ".scala",
   "help_links": [
    {
     "text": "MetaKernel Magics",
     "url": "https://metakernel.readthedocs.io/en/latest/source/README.html"
    }
   ],
   "mimetype": "text/x-scala",
   "name": "scala",
   "pygments_lexer": "scala",
   "version": "0.4.1"
  }
 },
 "nbformat": 4,
 "nbformat_minor": 4
}
