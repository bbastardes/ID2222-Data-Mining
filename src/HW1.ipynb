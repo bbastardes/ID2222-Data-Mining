{
 "cells": [
  {
   "cell_type": "code",
   "execution_count": 1,
   "metadata": {},
   "outputs": [
    {
     "data": {
      "text/plain": [
       "Intitializing Scala interpreter ..."
      ]
     },
     "metadata": {},
     "output_type": "display_data"
    },
    {
     "data": {
      "text/plain": [
       "Spark Web UI available at http://n146-p214.eduroam.kth.se:4040\n",
       "SparkContext available as 'sc' (version = 3.0.1, master = local[*], app id = local-1604662420142)\n",
       "SparkSession available as 'spark'\n"
      ]
     },
     "metadata": {},
     "output_type": "display_data"
    },
    {
     "data": {
      "text/plain": [
       "import org.apache.spark.SparkConf\n",
       "import org.apache.spark.SparkContext\n",
       "import org.apache.spark.rdd.RDD\n"
      ]
     },
     "execution_count": 1,
     "metadata": {},
     "output_type": "execute_result"
    }
   ],
   "source": [
    "import org.apache.spark.SparkConf\n",
    "import org.apache.spark.SparkContext\n",
    "import org.apache.spark.rdd.RDD\n"
   ]
  },
  {
   "cell_type": "code",
   "execution_count": 7,
   "metadata": {},
   "outputs": [
    {
     "data": {
      "text/plain": [
       "defined class Shingle\n"
      ]
     },
     "execution_count": 7,
     "metadata": {},
     "output_type": "execute_result"
    }
   ],
   "source": [
    "class Shingle {\n",
    "    \n",
    "    def createshingles(path: String, k:Int) : RDD[(String, Set[Int])] = {\n",
    "        val files = sc.wholeTextFiles(path,1).map({ case (path, text) => (path.split(\"/\").last, text) })\n",
    "                                            .mapValues(_.toLowerCase)\n",
    "                                            .mapValues(_.replace(\",\", \"\"))\n",
    "                                            .mapValues(_.replace(\".\", \"\"))\n",
    "                                            .mapValues(_.replace(\"?\", \"\"))\n",
    "                                            .mapValues(_.replace(\"!\", \"\"))\n",
    "                                            .mapValues(_.replace(\")\", \"\"))\n",
    "                                            .mapValues(_.replace(\"(\", \"\"))    \n",
    "        val shingles = files.flatMapValues { case (str) => str.grouped(k)\n",
    "        }  \n",
    "        print(shingles.collect)\n",
    "        return shingles.mapValues(str => str.hashCode()).groupByKey().mapValues(x => x.toSet)\n",
    "    }\n",
    "}"
   ]
  },
  {
   "cell_type": "code",
   "execution_count": 13,
   "metadata": {},
   "outputs": [
    {
     "data": {
      "text/plain": [
       "defined class CompareSet\n"
      ]
     },
     "execution_count": 13,
     "metadata": {},
     "output_type": "execute_result"
    }
   ],
   "source": [
    "class CompareSet {\n",
    "  def JaccardSimilarity(set1: Set[(Int)], set2: Set[(Int)]) : Double = {\n",
    "      println(set1.intersect(set2).size)\n",
    "      println(set1.union(set2).size)\n",
    "      println(set1.size+set2.size)\n",
    "    return ((set1.intersect(set2).size).toDouble / (set1.union(set2).size)).toDouble\n",
    "  }\n",
    "}"
   ]
  },
  {
   "cell_type": "code",
   "execution_count": 18,
   "metadata": {},
   "outputs": [
    {
     "data": {
      "text/plain": [
       "path: String = ../data/\n",
       "k: Int = 3\n"
      ]
     },
     "execution_count": 18,
     "metadata": {},
     "output_type": "execute_result"
    }
   ],
   "source": [
    "// parameters\n",
    "\n",
    "val path = \"../data/\"\n",
    "val k = 3"
   ]
  },
  {
   "cell_type": "code",
   "execution_count": 19,
   "metadata": {},
   "outputs": [
    {
     "name": "stdout",
     "output_type": "stream",
     "text": [
      "[Lscala.Tuple2;@2a431bb6"
     ]
    },
    {
     "data": {
      "text/plain": [
       "shing: Shingle = Shingle@3745f1ab\n",
       "shingles: org.apache.spark.rdd.RDD[(String, Set[Int])] = MapPartitionsRDD[41] at mapValues at <console>:32\n",
       "s: Array[(String, Set[Int])] = Array((4.txt,Set(34452, 111604, 104412, 96481, 108825, 33875, 34335, 104006, 104443, 114143, 108304, 98690, 101391, 106893, 33993, 111623, 103069, 114009, 114817, 100586, 104878, 116510, 101048, 100711, 103298, 104202, 109338, 103107, 98155, 103807, 107385, 111611, 107571, 114842, 109260, 99349, 100193, 115946, 115678, 104502, 109865, 111112, 104431, 111612, 103572, 98302, 100246, 100520, 114949, 114717, 110961, 113759, 115259, 114828, 100582, 104456, 100696, 110268, 113130, 111181, 113880, 108842, 96417, 110140, 104533, 104358, 108107, 105860, 34046, 119771, 114801)), (2.txt,Set(112587, 51802, 113036, 106810, 114721,...\n"
      ]
     },
     "execution_count": 19,
     "metadata": {},
     "output_type": "execute_result"
    }
   ],
   "source": [
    "// Create shingles\n",
    "\n",
    "val shing = new Shingle\n",
    "val shingles = shing.createshingles(path,k)\n",
    "val s = shingles.collect()\n"
   ]
  },
  {
   "cell_type": "code",
   "execution_count": 20,
   "metadata": {},
   "outputs": [
    {
     "name": "stdout",
     "output_type": "stream",
     "text": [
      "(4.txt,Set(34452, 111604, 104412, 96481, 108825, 33875, 34335, 104006, 104443, 114143, 108304, 98690, 101391, 106893, 33993, 111623, 103069, 114009, 114817, 100586, 104878, 116510, 101048, 100711, 103298, 104202, 109338, 103107, 98155, 103807, 107385, 111611, 107571, 114842, 109260, 99349, 100193, 115946, 115678, 104502, 109865, 111112, 104431, 111612, 103572, 98302, 100246, 100520, 114949, 114717, 110961, 113759, 115259, 114828, 100582, 104456, 100696, 110268, 113130, 111181, 113880, 108842, 96417, 110140, 104533, 104358, 108107, 105860, 34046, 119771, 114801))\n",
      "(2.txt,Set(112587, 51802, 113036, 106810, 114721, 101038, 101033, 97295, 104202, 47704, 97, 96814, 56313, 33925, 113104, 97193, 110647, 33957, 117730, 110025, 33969, 114599, 114842, 97775, 107922, 101539, 100193, 98477, 104598, 101385, 97735, 100880, 107485, 100709, 104456, 118494, 32545, 117326, 96727, 34019, 96610))\n",
      "(3.txt,Set(34452, 34117, 100570, 100587, 96680, 101487, 102243, 96597, 104006, 110252, 114143, 98158, 110, 99449, 108304, 98690, 101391, 102323, 96972, 116637, 101387, 114009, 110877, 101052, 34236, 103298, 104202, 103107, 104892, 114771, 111611, 104622, 110368, 34295, 97544, 95219, 107571, 109260, 48193, 34097, 116034, 98840, 100193, 115678, 104502, 109865, 104431, 101759, 98302, 98169, 114949, 97541, 114717, 110961, 110178, 113759, 104350, 33953, 100696, 113881, 116561, 113130, 111181, 34451, 113880, 34073, 109411, 96417, 110140, 104533, 105860, 95729, 102224, 34046, 119771, 34459, 114801))\n",
      "(5.txt,Set(100742, 34452, 111604, 115611, 34117, 100587, 96481, 108825, 34335, 103314, 112717, 109796, 104006, 114721, 121, 113678, 103069, 100430, 103298, 96814, 99331, 107159, 104418, 98155, 107385, 34545, 34295, 96580, 33804, 103302, 110317, 98385, 106799, 114842, 109260, 96360, 100658, 100572, 34107, 33895, 103413, 115946, 34122, 104347, 115678, 109865, 103572, 104078, 104188, 100246, 114717, 102491, 113759, 114828, 33859, 34123, 50106, 108842, 96417, 107648, 108107, 108346, 102224, 34046, 34459, 114801))\n",
      "(1.txt,Set(101577, 98464, 100570, 107524, 34271, 110237, 102323, 34025, 33993, 49570, 101052, 107019, 106821, 110655, 113209, 96814, 103107, 96390, 117730, 114842, 100193, 104598, 54452, 34205, 46765, 109121, 34047, 98105, 100880, 108842, 104154, 102348, 52596, 108721))\n",
      "(0.txt,Set(100725, 34452, 111267, 106904, 107859, 34117, 98168, 100570, 100587, 108935, 117370, 112717, 104381, 96597, 104575, 98158, 108873, 114721, 104586, 113101, 110113, 34236, 112671, 97627, 113199, 103315, 115885, 114797, 33869, 108883, 114841, 98151, 103107, 107990, 113114, 112907, 115448, 100893, 101562, 114707, 111081, 103067, 97144, 98150, 116138, 100091, 34022, 100658, 100193, 34310, 34028, 33873, 109865, 100700, 33891, 33932, 112579, 115992, 118691, 34201, 107034, 112580, 98468, 99130, 3246, 100246, 111077, 104071, 104401, 111625, 109019, 113880, 104415, 108842, 98689, 50451, 33858, 44759, 106911, 34019, 112785, 97809, 101036, 110082, 114801, 114591, 102146))\n"
     ]
    }
   ],
   "source": [
    "shingles.collect().foreach(println)"
   ]
  },
  {
   "cell_type": "code",
   "execution_count": 21,
   "metadata": {
    "scrolled": true
   },
   "outputs": [
    {
     "name": "stdout",
     "output_type": "stream",
     "text": [
      "4\n",
      "108\n",
      "112\n",
      "(4.txt,2.txt):0.037037037037037035\n",
      "34\n",
      "114\n",
      "148\n",
      "(4.txt,3.txt):0.2982456140350877\n",
      "25\n",
      "112\n",
      "137\n",
      "(4.txt,5.txt):0.22321428571428573\n",
      "5\n",
      "100\n",
      "105\n",
      "(4.txt,1.txt):0.05\n",
      "41\n",
      "41\n",
      "82\n",
      "(2.txt,2.txt):1.0\n",
      "2\n",
      "116\n",
      "118\n",
      "(2.txt,3.txt):0.017241379310344827\n",
      "3\n",
      "104\n",
      "107\n",
      "(2.txt,5.txt):0.028846153846153848\n",
      "6\n",
      "69\n",
      "75\n",
      "(2.txt,1.txt):0.08695652173913043\n",
      "2\n",
      "116\n",
      "118\n",
      "(3.txt,2.txt):0.017241379310344827\n",
      "77\n",
      "77\n",
      "154\n",
      "(3.txt,3.txt):1.0\n",
      "16\n",
      "127\n",
      "143\n",
      "(3.txt,5.txt):0.12598425196850394\n",
      "5\n",
      "106\n",
      "111\n",
      "(3.txt,1.txt):0.04716981132075472\n",
      "3\n",
      "104\n",
      "107\n",
      "(5.txt,2.txt):0.028846153846153848\n",
      "16\n",
      "127\n",
      "143\n",
      "(5.txt,3.txt):0.12598425196850394\n",
      "66\n",
      "66\n",
      "132\n",
      "(5.txt,5.txt):1.0\n",
      "3\n",
      "97\n",
      "100\n",
      "(5.txt,1.txt):0.030927835051546393\n",
      "6\n",
      "69\n",
      "75\n",
      "(1.txt,2.txt):0.08695652173913043\n",
      "5\n",
      "106\n",
      "111\n",
      "(1.txt,3.txt):0.04716981132075472\n",
      "3\n",
      "97\n",
      "100\n",
      "(1.txt,5.txt):0.030927835051546393\n",
      "34\n",
      "34\n",
      "68\n",
      "(1.txt,1.txt):1.0\n",
      "3\n",
      "125\n",
      "128\n",
      "(0.txt,2.txt):0.024\n",
      "12\n",
      "152\n",
      "164\n",
      "(0.txt,3.txt):0.07894736842105263\n",
      "10\n",
      "143\n",
      "153\n",
      "(0.txt,5.txt):0.06993006993006994\n",
      "4\n",
      "117\n",
      "121\n",
      "(0.txt,1.txt):0.03418803418803419\n"
     ]
    },
    {
     "data": {
      "text/plain": [
       "similarity: CompareSet = CompareSet@561365dc\n"
      ]
     },
     "execution_count": 21,
     "metadata": {},
     "output_type": "execute_result"
    }
   ],
   "source": [
    "// Compute similarity\n",
    "\n",
    "val similarity = new CompareSet\n",
    "\n",
    "for( i <- 0 to 5 ){\n",
    "    for (j <- 1 to 4){\n",
    "        val sim = similarity.JaccardSimilarity(s(i)._2,s(j)._2)\n",
    "        println(\"(\"+s(i)._1+\",\"+s(j)._1+\"):\"+sim)\n",
    "    }\n",
    "}"
   ]
  },
  {
   "cell_type": "code",
   "execution_count": null,
   "metadata": {},
   "outputs": [],
   "source": []
  },
  {
   "cell_type": "code",
   "execution_count": null,
   "metadata": {},
   "outputs": [],
   "source": []
  }
 ],
 "metadata": {
  "kernelspec": {
   "display_name": "spylon-kernel",
   "language": "scala",
   "name": "spylon-kernel"
  }
 },
 "nbformat": 4,
 "nbformat_minor": 4
}
