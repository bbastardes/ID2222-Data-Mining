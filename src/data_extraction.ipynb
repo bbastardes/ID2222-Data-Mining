{
 "cells": [
  {
   "cell_type": "code",
   "execution_count": 40,
   "metadata": {},
   "outputs": [],
   "source": [
    "import pandas as pd"
   ]
  },
  {
   "cell_type": "code",
   "execution_count": 41,
   "metadata": {},
   "outputs": [],
   "source": [
    "df = pd.read_json('../data/NCBI_lines_map.json',lines=True)"
   ]
  },
  {
   "cell_type": "code",
   "execution_count": 42,
   "metadata": {},
   "outputs": [],
   "source": [
    "list = [3045422_8,3142626_5,3166328_6, 384374640, 384374639, 2864900173]"
   ]
  },
  {
   "cell_type": "code",
   "execution_count": 43,
   "metadata": {},
   "outputs": [],
   "source": [
    "data = df.loc[df['pmc'].isin(list)]"
   ]
  },
  {
   "cell_type": "code",
   "execution_count": 44,
   "metadata": {},
   "outputs": [
    {
     "data": {
      "text/html": [
       "<div>\n",
       "<style scoped>\n",
       "    .dataframe tbody tr th:only-of-type {\n",
       "        vertical-align: middle;\n",
       "    }\n",
       "\n",
       "    .dataframe tbody tr th {\n",
       "        vertical-align: top;\n",
       "    }\n",
       "\n",
       "    .dataframe thead th {\n",
       "        text-align: right;\n",
       "    }\n",
       "</style>\n",
       "<table border=\"1\" class=\"dataframe\">\n",
       "  <thead>\n",
       "    <tr style=\"text-align: right;\">\n",
       "      <th></th>\n",
       "      <th>pmc</th>\n",
       "      <th>line</th>\n",
       "    </tr>\n",
       "  </thead>\n",
       "  <tbody>\n",
       "    <tr>\n",
       "      <th>1</th>\n",
       "      <td>2864900173</td>\n",
       "      <td>Branches that project out of the focal plane (...</td>\n",
       "    </tr>\n",
       "    <tr>\n",
       "      <th>2</th>\n",
       "      <td>384374639</td>\n",
       "      <td>Excitation was achieved with the Lumencor LED ...</td>\n",
       "    </tr>\n",
       "    <tr>\n",
       "      <th>3</th>\n",
       "      <td>384374640</td>\n",
       "      <td>Excitation light was filtered with a dual-band...</td>\n",
       "    </tr>\n",
       "    <tr>\n",
       "      <th>102665</th>\n",
       "      <td>31426265</td>\n",
       "      <td>Since the genomic sequence of TGFB1 gene is hi...</td>\n",
       "    </tr>\n",
       "    <tr>\n",
       "      <th>357304</th>\n",
       "      <td>31663286</td>\n",
       "      <td>Since the genomic sequence of eNOS is highly p...</td>\n",
       "    </tr>\n",
       "    <tr>\n",
       "      <th>460532</th>\n",
       "      <td>30454228</td>\n",
       "      <td>As the genomic sequences of a-adducin and GNB3...</td>\n",
       "    </tr>\n",
       "  </tbody>\n",
       "</table>\n",
       "</div>"
      ],
      "text/plain": [
       "               pmc                                               line\n",
       "1       2864900173  Branches that project out of the focal plane (...\n",
       "2        384374639  Excitation was achieved with the Lumencor LED ...\n",
       "3        384374640  Excitation light was filtered with a dual-band...\n",
       "102665    31426265  Since the genomic sequence of TGFB1 gene is hi...\n",
       "357304    31663286  Since the genomic sequence of eNOS is highly p...\n",
       "460532    30454228  As the genomic sequences of a-adducin and GNB3..."
      ]
     },
     "execution_count": 44,
     "metadata": {},
     "output_type": "execute_result"
    }
   ],
   "source": [
    "data"
   ]
  },
  {
   "cell_type": "code",
   "execution_count": 45,
   "metadata": {},
   "outputs": [
    {
     "name": "stdout",
     "output_type": "stream",
     "text": [
      "Branches that project out of the focal plane (3--red arrow, and 4--white arrow) are less visible in the simulated image, indicating that the branching complexity and branch length distribution of the actin filament could be misinterpreted from experimental fluorescence images\n",
      "Excitation was achieved with the Lumencor LED light engine (472/20 nm for GFP and 543/20 nm for mCherry)\n",
      "Excitation light was filtered with a dual-band excitation filter ET/GFP-mCherry (59002x) and dichroic (89019bs), both from Chroma\n",
      "Since the genomic sequence of TGFB1 gene is highly polymorphic, it is of added interest to confirm which TGFB1 polymorphism(s) might have functional potentials to influence the final bioavailability of TGF- b 1, thus the development of hypertension\n",
      "Since the genomic sequence of eNOS is highly polymorphic, it is of added interest to confirm which polymorphism(s) at eNOS might have functional potentials to affect the final bioavailability of eNOS, and thus the development of hypertension\n",
      "As the genomic sequences of a-adducin and GNB3 genes are highly polymorphic, it is of added interest to identify which polymorphism(s) in these genes might have functional potentials of affecting their bioavailability\n"
     ]
    }
   ],
   "source": [
    "i = 0\n",
    "for index, row in data.iterrows():\n",
    "    if i > len(data):\n",
    "        break\n",
    "    else:\n",
    "        print(row[1])\n",
    "        f = open('../data/'+str(i)+'.txt', 'w')\n",
    "        f.write(row[1])\n",
    "        f.close()\n",
    "        i+=1"
   ]
  },
  {
   "cell_type": "code",
   "execution_count": null,
   "metadata": {},
   "outputs": [],
   "source": []
  }
 ],
 "metadata": {
  "kernelspec": {
   "display_name": "Python 3",
   "language": "python",
   "name": "python3"
  },
  "language_info": {
   "codemirror_mode": {
    "name": "ipython",
    "version": 3
   },
   "file_extension": ".py",
   "mimetype": "text/x-python",
   "name": "python",
   "nbconvert_exporter": "python",
   "pygments_lexer": "ipython3",
   "version": "3.8.6"
  }
 },
 "nbformat": 4,
 "nbformat_minor": 4
}
