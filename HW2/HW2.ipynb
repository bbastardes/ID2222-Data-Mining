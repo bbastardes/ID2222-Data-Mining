{
 "cells": [
  {
   "cell_type": "code",
   "execution_count": 1,
   "metadata": {},
   "outputs": [
    {
     "data": {
      "text/plain": [
       "Intitializing Scala interpreter ..."
      ]
     },
     "metadata": {},
     "output_type": "display_data"
    },
    {
     "data": {
      "text/plain": [
       "Spark Web UI available at http://DESKTOP-OGTOHVK:4040\n",
       "SparkContext available as 'sc' (version = 3.0.1, master = local[*], app id = local-1605539598530)\n",
       "SparkSession available as 'spark'\n"
      ]
     },
     "metadata": {},
     "output_type": "display_data"
    },
    {
     "data": {
      "text/plain": [
       "import org.apache.spark.SparkConf\r\n",
       "import org.apache.spark.SparkContext\r\n",
       "import org.apache.spark.rdd.RDD\r\n"
      ]
     },
     "execution_count": 1,
     "metadata": {},
     "output_type": "execute_result"
    }
   ],
   "source": [
    "import org.apache.spark.SparkConf\n",
    "import org.apache.spark.SparkContext\n",
    "import org.apache.spark.rdd.RDD"
   ]
  },
  {
   "cell_type": "code",
   "execution_count": 8,
   "metadata": {},
   "outputs": [
    {
     "data": {
      "text/plain": [
       "data: String = data/T10I4D100K.dat\r\n",
       "support: Int = 1000\r\n"
      ]
     },
     "execution_count": 8,
     "metadata": {},
     "output_type": "execute_result"
    }
   ],
   "source": [
    "val data = \"data/T10I4D100K.dat\"\n",
    "val support = 1000"
   ]
  },
  {
   "cell_type": "code",
   "execution_count": 9,
   "metadata": {},
   "outputs": [
    {
     "data": {
      "text/plain": [
       "import scala.io.Source\r\n"
      ]
     },
     "execution_count": 9,
     "metadata": {},
     "output_type": "execute_result"
    }
   ],
   "source": [
    "import scala.io.Source\n",
    "//val source = Source.fromFile(data).getLines().map(x => x.split(\" \").map(item => item.toInt)).toList"
   ]
  },
  {
   "cell_type": "code",
   "execution_count": 7,
   "metadata": {},
   "outputs": [
    {
     "ename": "<console>",
     "evalue": "52: error: forward reference extends over definition of value candidates\r",
     "output_type": "error",
     "traceback": [
      "<console>:52: error: forward reference extends over definition of value candidates\r",
      "               val candidates: List[List[Int]] = frequent_sets_k.flatten.toSet[Int].subsets(k).map(_.toList).toList\r",
      "                                                 ^\r",
      ""
     ]
    }
   ],
   "source": [
    "implicit def bool2int(b:Boolean) = if (b) 1 else 0\n",
    "\n",
    "def count_itemsets(data: String, candidates: List[List[Int]]): Int = {\n",
    "    \n",
    "    val occurrences = Array.fill(candidates.size)(0)\n",
    "    \n",
    "    val source = Source.fromFile(data)\n",
    "    for (line <- source.getLines().map(x => x.split(\" \").map(item => item.toInt))) {\n",
    "        for (item <- candidates.zipWithIndex) {\n",
    "            occurrences(item._2) = occurrences(item._2)  + List(item._1).forall(line.toList.contains)\n",
    "        }\n",
    "    }\n",
    "    souce.close()\n",
    "    \n",
    "    occurrences.zip(candidates).filter(x => (x._1 >= support)).map(item => item._2).toList\n",
    "    \n",
    "}\n",
    "\n",
    "\n",
    "def frequent_itemsets(data: String): List[Any] = {\n",
    "    \n",
    "    \n",
    "    val candidates = Array.range(0, 1000) \n",
    "    val occurrences = Array.fill(100000)(0)\n",
    "    \n",
    "    val source = Source.fromFile(data)\n",
    "    for (line <- source.getLines().map(x => x.split(\" \").map(item => item.toInt))) {\n",
    "        for (item <- candidates.zipWithIndex) {\n",
    "            occurrences(item._2) = occurrences(item._2)  + List(item._1).forall(line.toList.contains)\n",
    "        }\n",
    "    }\n",
    "    \n",
    "    val frequent_sets_k = occurrences.zipWithIndex.filter(x => (x._1 >= support)).map(item => item._2).toList\n",
    "    val frequent_sets = List[Any]()\n",
    "    println(1, frequent_sets.size)\n",
    "    \n",
    "    for (k <- 2 to 4) {\n",
    "        \n",
    "        val candidates_2: List[List[Int]] = frequent_sets_k.flatten.toSet[Int].subsets(k).map(_.toList).toList\n",
    "        val n_candidates: Int = candidates.size\n",
    "        val occurrences = Array.fill(n_candidates)(0)\n",
    "        for (line <- source.getLines().map(x => x.split(\" \").map(item => item.toInt))) {\n",
    "            for (item <- candidates_2.zipWithIndex) {\n",
    "                occurrences(item._2) = occurrences(item._2)  + List(item._1).forall(line.toList.contains)\n",
    "            }\n",
    "        }\n",
    "        \n",
    "        //val frequent_indx = occurrences.zipWithIndex.filter(x => (x._1 >= support)).map(item => item._2)\n",
    "        val frequent_sets_k2 = occurrences.zip(candidates_2).filter(x => (x._1 >= support)).map(item => item._2).toList\n",
    "        println(k, frequent_sets_k.size)\n",
    "        \n",
    "        if (frequent_sets_k.size < 1) {\n",
    "            return frequent_sets\n",
    "        }\n",
    "        \n",
    "        println(frequent_sets_k)\n",
    "        \n",
    "    } \n",
    "    \n",
    "    return frequent_sets\n",
    "    \n",
    "    \n",
    "}\n"
   ]
  },
  {
   "cell_type": "code",
   "execution_count": 10,
   "metadata": {},
   "outputs": [
    {
     "data": {
      "text/plain": [
       "warning: there was one feature warning; for details, enable `:setting -feature' or `:replay -feature'\r\n",
       "import scala.io.Source\r\n",
       "bool2int: (b: Boolean)Int\r\n",
       "source: scala.io.BufferedSource = <iterator>\r\n",
       "singletons: Array[Int] = Array(594, 1535, 673, 531, 1394, 1094, 2149, 997, 3090, 0, 1351, 525, 3415, 35, 197, 458, 150, 1683, 813, 121, 40, 2666, 397, 128, 191, 1395, 527, 2165, 1454, 171, 0, 1666, 4248, 1460, 56, 1984, 528, 1249, 2402, 4258, 457, 1353, 119, 1721, 903, 1728, 543, 175, 2472, 137, 0, 1612, 1983, 535, 2595, 1959, 114, 2743, 1330, 312, 0, 0, 110, 0, 319, 0, 888, 316, 1601, 2370, 2411, 3507, 2852, 2179, 58, 3151, 0, 0, 2471, 0, 826, 270, 674, 181, 0, 1555, 229, 0, 303, 211, 1875, 116, 0, 2777, 1201, 841, 975, 1466, 486, 0, 1749, 329, 109, 327, 1158, 1100, 0, 0, 940, 0, 1801, 1171, 2680, 394, 816, 1775, 2193, 731, 916, 0, 4973, 17, 1081, 28, 294, 1287, 1075, 492, 525, 1547, 1711, ...\r\n"
      ]
     },
     "execution_count": 10,
     "metadata": {},
     "output_type": "execute_result"
    }
   ],
   "source": [
    "import scala.io.Source\n",
    "implicit def bool2int(b:Boolean) = if (b) 1 else 0\n",
    "\n",
    "val source = Source.fromFile(data)\n",
    "val singletons = Array.fill(100000)(0)\n",
    "val candidates = Array.range(0, 1000) \n",
    "\n",
    "for (line <- source.getLines().map(x => x.split(\" \").map(item => item.toInt))) {\n",
    "//for (line <- source) {\n",
    "    for (i <- candidates){\n",
    "        singletons(i) = singletons(i) + List(i).forall(line.toList.contains)\n",
    "        }\n",
    "    }\n",
    "source.close()\n",
    "     \n",
    "val frequent_singl = singletons.zip(candidates).filter(x => (x._1 >= support)).map(item => item._2)"
   ]
  },
  {
   "cell_type": "code",
   "execution_count": 11,
   "metadata": {},
   "outputs": [
    {
     "data": {
      "text/plain": [
       "candidates: List[List[Int]] = List(List(69, 809), List(69, 846), List(69, 628), List(69, 893), List(69, 468), List(69, 234), List(69, 941), List(69, 170), List(69, 523), List(69, 115), List(69, 217), List(69, 276), List(69, 308), List(69, 5), List(69, 449), List(69, 120), List(69, 878), List(69, 440), List(69, 511), List(69, 614), List(69, 597), List(69, 10), List(69, 385), List(69, 550), List(69, 500), List(69, 797), List(69, 472), List(69, 814), List(69, 913), List(69, 538), List(69, 829), List(69, 185), List(69, 782), List(69, 841), List(69, 885), List(69, 37), List(69, 25), List(69, 651), List(69, 52), List(69, 504), List(69, 110), List(69, 125), List(69, 357), List(69, 196), List(69, 949), List(69, 460), List(69, 157), List(69, 638), List(69, 853), List(69, 93), List(69, 606), List...\r\n"
      ]
     },
     "execution_count": 11,
     "metadata": {},
     "output_type": "execute_result"
    }
   ],
   "source": [
    "val candidates = frequent_singl.toSet[Int].subsets(2).map(_.toList).toList"
   ]
  },
  {
   "cell_type": "code",
   "execution_count": 26,
   "metadata": {},
   "outputs": [
    {
     "data": {
      "text/plain": [
       "res7: Int = 70125\r\n"
      ]
     },
     "execution_count": 26,
     "metadata": {},
     "output_type": "execute_result"
    }
   ],
   "source": [
    "candidates.size"
   ]
  },
  {
   "cell_type": "code",
   "execution_count": null,
   "metadata": {
    "scrolled": true
   },
   "outputs": [
    {
     "name": "stdout",
     "output_type": "stream",
     "text": [
      "(lines done ,0)\n",
      "(lines done ,1000)\n",
      "(lines done ,2000)\n",
      "(lines done ,3000)\n",
      "(lines done ,4000)\n",
      "(lines done ,5000)\n",
      "(lines done ,6000)\n",
      "(lines done ,7000)\n"
     ]
    }
   ],
   "source": [
    "val doubletons = Array.fill(candidates.size)(0)\n",
    "val source = Source.fromFile(data)\n",
    "var i = 0\n",
    "\n",
    "for (line <- source.getLines().map(x => x.split(\" \").map(item => item.toInt))) {\n",
    "    if (i%1000 == 0){\n",
    "        println(\"lines done \",i)\n",
    "    }\n",
    "    for (item <- candidates.zipWithIndex) {\n",
    "                doubletons(item._2) = doubletons(item._2)  + item._1.forall(line.toList.contains)\n",
    "            }\n",
    "    i = i + 1\n",
    "        }\n",
    "source.close()\n",
    "println(\"\\nDONE\")\n"
   ]
  },
  {
   "cell_type": "code",
   "execution_count": 12,
   "metadata": {},
   "outputs": [
    {
     "data": {
      "text/plain": [
       "frequent_doubl: Array[List[Int]] = Array(List(217, 33), List(217, 394), List(217, 346), List(217, 283), List(829, 789), List(782, 529), List(782, 598), List(348, 912), List(529, 598), List(862, 392), List(862, 801), List(392, 801), List(33, 346), List(33, 283), List(583, 354), List(569, 509), List(883, 517), List(438, 75), List(438, 684), List(487, 510), List(75, 684), List(346, 283), List(752, 354))\r\n"
      ]
     },
     "execution_count": 12,
     "metadata": {},
     "output_type": "execute_result"
    }
   ],
   "source": [
    "val frequent_doubl = doubletons.zip(candidates).filter(x => (x._1 >= 100)).map(item => item._2)"
   ]
  },
  {
   "cell_type": "code",
   "execution_count": 13,
   "metadata": {},
   "outputs": [
    {
     "data": {
      "text/plain": [
       "res4: Int = 23\r\n"
      ]
     },
     "execution_count": 13,
     "metadata": {},
     "output_type": "execute_result"
    }
   ],
   "source": [
    "frequent_doubl.size"
   ]
  },
  {
   "cell_type": "code",
   "execution_count": 14,
   "metadata": {
    "collapsed": true
   },
   "outputs": [
    {
     "data": {
      "text/plain": [
       "candidates: List[List[Int]] = List(List(217, 829, 782), List(217, 829, 789), List(217, 829, 348), List(217, 829, 529), List(217, 829, 862), List(217, 829, 598), List(217, 829, 392), List(217, 829, 33), List(217, 829, 583), List(217, 829, 569), List(217, 829, 509), List(217, 829, 912), List(217, 829, 883), List(217, 829, 394), List(217, 829, 438), List(217, 829, 487), List(217, 829, 517), List(217, 829, 75), List(217, 829, 510), List(217, 829, 684), List(217, 829, 346), List(217, 829, 752), List(217, 829, 801), List(217, 829, 283), List(217, 829, 354), List(217, 782, 789), List(217, 782, 348), List(217, 782, 529), List(217, 782, 862), List(217, 782, 598), List(217, 782, 392), List(217, 782, 33), List(217, 782, 583), List(217, 782, 569), List(217, 782, 509), List(217, 782, 912), List(217,...\r\n"
      ]
     },
     "execution_count": 14,
     "metadata": {},
     "output_type": "execute_result"
    }
   ],
   "source": [
    "val candidates = frequent_doubl.flatten.toSet[Int].subsets(3).map(_.toList).toList"
   ]
  },
  {
   "cell_type": "code",
   "execution_count": 15,
   "metadata": {},
   "outputs": [
    {
     "data": {
      "text/plain": [
       "res5: Int = 2925\r\n"
      ]
     },
     "execution_count": 15,
     "metadata": {},
     "output_type": "execute_result"
    }
   ],
   "source": [
    "candidates.size"
   ]
  },
  {
   "cell_type": "code",
   "execution_count": 16,
   "metadata": {},
   "outputs": [
    {
     "data": {
      "text/plain": [
       "occurrences: Array[Int] = Array(0, 1, 0, 0, 0, 0, 0, 1, 0, 0, 0, 0, 0, 1, 0, 0, 1, 0, 0, 0, 1, 0, 0, 1, 1, 0, 0, 1, 0, 1, 0, 0, 0, 0, 0, 0, 0, 1, 0, 1, 0, 0, 1, 0, 0, 0, 0, 0, 0, 0, 0, 0, 0, 0, 1, 0, 0, 0, 0, 0, 0, 0, 0, 0, 0, 0, 0, 3, 0, 0, 1, 0, 0, 0, 0, 0, 0, 0, 0, 0, 0, 0, 0, 0, 0, 0, 0, 0, 0, 0, 0, 0, 0, 0, 0, 2, 0, 0, 0, 0, 0, 0, 0, 1, 0, 1, 0, 0, 1, 0, 0, 0, 0, 0, 0, 0, 0, 0, 0, 0, 0, 0, 0, 0, 0, 0, 0, 0, 0, 0, 0, 0, 0, 0, 0, 0, 0, 0, 0, 0, 0, 0, 1, 0, 1, 0, 0, 1, 0, 0, 0, 0, 0, 0, 0, 0, 0, 0, 0, 0, 0, 0, 0, 0, 0, 0, 0, 0, 0, 0, 0, 0, 0, 0, 1, 0, 2, 0, 0, 1, 0, 0, 0, 0, 9, 1, 0, 9, 1, 0, 0, 0, 0, 1, 0, 0, 0, 0, 0, 0, 0, 0, 0, 0, 1, 0, 0, 0, 0, 0, 0, 0, 0, 0, 0, 0, 0, 0, 0, 0, 0, 0, 0, 0, 0, 1, 0, 0, 0, 1, 0, 0, 1, 1, 0, 0, 0, 0, 0, 0, 0, 0, 0, 0, 0, 0, 0, 0, 0, 0, 0, 0, 0, 0, 2, ...\r\n"
      ]
     },
     "execution_count": 16,
     "metadata": {},
     "output_type": "execute_result"
    }
   ],
   "source": [
    "val occurrences = Array.fill(candidates.size)(0)\n",
    "\n",
    "val source = Source.fromFile(data)\n",
    "for (line <- source.getLines().map(x => x.split(\" \").map(item => item.toInt))) {\n",
    "//for (line <- source) {\n",
    "        for (item <- candidates.zipWithIndex) {\n",
    "            occurrences(item._2) = occurrences(item._2)  + item._1.forall(line.toList.contains)\n",
    "        }\n",
    "    }\n",
    "source.close()"
   ]
  },
  {
   "cell_type": "code",
   "execution_count": 20,
   "metadata": {},
   "outputs": [
    {
     "data": {
      "text/plain": [
       "frequent_trp: Array[List[Int]] = Array(List(217, 33, 346), List(217, 33, 283), List(217, 346, 283), List(782, 529, 598), List(862, 392, 801), List(33, 346, 283), List(438, 75, 684))\r\n"
      ]
     },
     "execution_count": 20,
     "metadata": {},
     "output_type": "execute_result"
    }
   ],
   "source": [
    "val frequent_trp = occurrences.zip(candidates).filter(x => (x._1 >=9)).map(item => item._2)"
   ]
  }
 ],
 "metadata": {
  "kernelspec": {
   "display_name": "spylon-kernel",
   "language": "scala",
   "name": "spylon-kernel"
  },
  "language_info": {
   "codemirror_mode": "text/x-scala",
   "file_extension": ".scala",
   "help_links": [
    {
     "text": "MetaKernel Magics",
     "url": "https://metakernel.readthedocs.io/en/latest/source/README.html"
    }
   ],
   "mimetype": "text/x-scala",
   "name": "scala",
   "pygments_lexer": "scala",
   "version": "0.4.1"
  }
 },
 "nbformat": 4,
 "nbformat_minor": 4
}
