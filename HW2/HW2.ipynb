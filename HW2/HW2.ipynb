{
 "cells": [
  {
   "cell_type": "code",
   "execution_count": 1,
   "metadata": {},
   "outputs": [
    {
     "data": {
      "text/plain": [
       "Intitializing Scala interpreter ..."
      ]
     },
     "metadata": {},
     "output_type": "display_data"
    },
    {
     "data": {
      "text/plain": [
       "Spark Web UI available at http://DESKTOP-OGTOHVK:4040\n",
       "SparkContext available as 'sc' (version = 3.0.1, master = local[*], app id = local-1605480481444)\n",
       "SparkSession available as 'spark'\n"
      ]
     },
     "metadata": {},
     "output_type": "display_data"
    },
    {
     "data": {
      "text/plain": [
       "import org.apache.spark.SparkConf\r\n",
       "import org.apache.spark.SparkContext\r\n",
       "import org.apache.spark.rdd.RDD\r\n"
      ]
     },
     "execution_count": 1,
     "metadata": {},
     "output_type": "execute_result"
    }
   ],
   "source": [
    "import org.apache.spark.SparkConf\n",
    "import org.apache.spark.SparkContext\n",
    "import org.apache.spark.rdd.RDD"
   ]
  },
  {
   "cell_type": "code",
   "execution_count": 2,
   "metadata": {},
   "outputs": [
    {
     "data": {
      "text/plain": [
       "data: String = data/T10I4D100K.dat\r\n",
       "support: Int = 100\r\n"
      ]
     },
     "execution_count": 2,
     "metadata": {},
     "output_type": "execute_result"
    }
   ],
   "source": [
    "val data = \"data/T10I4D100K.dat\"\n",
    "val support = 100"
   ]
  },
  {
   "cell_type": "code",
   "execution_count": 3,
   "metadata": {},
   "outputs": [
    {
     "data": {
      "text/plain": [
       "import scala.io.Source\r\n",
       "source: List[Array[Int]] = List(Array(25, 52, 164, 240, 274, 328, 368, 448, 538, 561, 630, 687, 730, 775, 825, 834), Array(39, 120, 124, 205, 401, 581, 704, 814, 825, 834), Array(35, 249, 674, 712, 733, 759, 854, 950), Array(39, 422, 449, 704, 825, 857, 895, 937, 954, 964), Array(15, 229, 262, 283, 294, 352, 381, 708, 738, 766, 853, 883, 966, 978), Array(26, 104, 143, 320, 569, 620, 798), Array(7, 185, 214, 350, 529, 658, 682, 782, 809, 849, 883, 947, 970, 979), Array(227, 390), Array(71, 192, 208, 272, 279, 280, 300, 333, 496, 529, 530, 597, 618, 674, 675, 720, 855, 914, 932), Array(183, 193, 217, 256, 276, 277, 374, 474, 483, 496, 512, 529, 626, 653, 706, 878, 939), Array(161, 175, 177, 424, 490, 571, 597, 623, 766, 795, 853, 910, 960), Array(125, 130, 327, 698...\r\n"
      ]
     },
     "execution_count": 3,
     "metadata": {},
     "output_type": "execute_result"
    }
   ],
   "source": [
    "import scala.io.Source\n",
    "val source = Source.fromFile(data).getLines().map(x => x.split(\" \").map(item => item.toInt)).toList"
   ]
  },
  {
   "cell_type": "code",
   "execution_count": null,
   "metadata": {},
   "outputs": [],
   "source": [
    "implicit def bool2int(b:Boolean) = if (b) 1 else 0\n",
    "\n",
    "\n",
    "def frequent_itemsets(data: String): List[Any] = {\n",
    "    \n",
    "    val candidates = Array.range(0, 1000) \n",
    "    val occurrences = Array.fill(100000)(0)\n",
    "\n",
    "    for (line <- source) {\n",
    "        for (item <- candidates.zipWithIndex) {\n",
    "            occurrences(item._2) = occurrences(item._2)  + List(item._1).forall(line.toList.contains)\n",
    "        }\n",
    "    }\n",
    "    \n",
    "    val frequent_sets_k = occurrences.zipWithIndex.filter(x => (x._1 >= support)).map(item => item._2).toList\n",
    "    val frequent_sets = List[Any]()\n",
    "    println(1, frequent_sets.size)\n",
    "    \n",
    "    for (k <- 2 to 4) {\n",
    "        \n",
    "        val candidates: List[List[Int]] = frequent_sets_k.flatten.toSet[Int].subsets(k).map(_.toList).toList\n",
    "        val n_candidates: Int = candidates.size\n",
    "        val occurrences = Array.fill(n_candidates)(0)\n",
    "        for (line <- source) {\n",
    "            for (item <- candidates.zipWithIndex) {\n",
    "                occurrences(item._2) = occurrences(item._2)  + List(item._1).forall(line.toList.contains)\n",
    "            }\n",
    "        }\n",
    "        \n",
    "        //val frequent_indx = occurrences.zipWithIndex.filter(x => (x._1 >= support)).map(item => item._2)\n",
    "        val frequent_sets_k = occurrences.zip(candidates).filter(x => (x._1 >= support)).map(item => item._2).toList\n",
    "        println(k, frequent_sets_k.size)\n",
    "        \n",
    "        if (frequent_sets_k.size < 1) {\n",
    "            return frequent_sets\n",
    "        }\n",
    "        \n",
    "        println(frequent_sets_k)\n",
    "        \n",
    "    } \n",
    "    \n",
    "    return frequent_sets\n",
    "    \n",
    "    \n",
    "}\n"
   ]
  },
  {
   "cell_type": "code",
   "execution_count": 4,
   "metadata": {},
   "outputs": [
    {
     "data": {
      "text/plain": [
       "warning: there was one feature warning; for details, enable `:setting -feature' or `:replay -feature'\r\n",
       "import scala.io.Source\r\n",
       "bool2int: (b: Boolean)Int\r\n",
       "singletons: Array[Int] = Array(594, 1535, 673, 531, 1394, 1094, 2149, 997, 3090, 0, 1351, 525, 3415, 35, 197, 458, 150, 1683, 813, 121, 40, 2666, 397, 128, 191, 1395, 527, 2165, 1454, 171, 0, 1666, 4248, 1460, 56, 1984, 528, 1249, 2402, 4258, 457, 1353, 119, 1721, 903, 1728, 543, 175, 2472, 137, 0, 1612, 1983, 535, 2595, 1959, 114, 2743, 1330, 312, 0, 0, 110, 0, 319, 0, 888, 316, 1601, 2370, 2411, 3507, 2852, 2179, 58, 3151, 0, 0, 2471, 0, 826, 270, 674, 181, 0, 1555, 229, 0, 303, 211, 1875, 116, 0, 2777, 1201, 841, 975, 1466, 486, 0, 1749, 329, 109, 327, 1158, 1100, 0, 0, 940, 0, 1801, 1171, 2680, 394, 816, 1775, 2193, 731, 916, 0, 4973, 17, 1081, 28, 294, 1287, 1075, 492, 525, 1547, 1711, 327, 2641, 0, 0, 82, 707, 48, 257, 671, 2687, ...\r\n"
      ]
     },
     "execution_count": 4,
     "metadata": {},
     "output_type": "execute_result"
    }
   ],
   "source": [
    "import scala.io.Source\n",
    "implicit def bool2int(b:Boolean) = if (b) 1 else 0\n",
    "\n",
    "//val source = Source.fromFile(data)\n",
    "val singletons = Array.fill(100000)(0)\n",
    "val candidates = Array.range(0, 1000) \n",
    "\n",
    "//for (line <- source.getLines().map(x => x.split(\" \").map(item => item.toInt))) {\n",
    "for (line <- source) {\n",
    "    for (i <- candidates){\n",
    "        singletons(i) = singletons(i) + List(i).forall(line.toList.contains)\n",
    "        }\n",
    "    }\n",
    "//source.close()\n",
    "     \n",
    "val frequent_singl = singletons.zip(candidates).filter(x => (x._1 >= support)).map(item => item._2)"
   ]
  },
  {
   "cell_type": "code",
   "execution_count": 5,
   "metadata": {},
   "outputs": [
    {
     "data": {
      "text/plain": [
       "candidates: List[List[Int]] = List(List(645, 892), List(645, 69), List(645, 809), List(645, 629), List(645, 138), List(645, 760), List(645, 101), List(645, 347), List(645, 846), List(645, 909), List(645, 333), List(645, 628), List(645, 249), List(645, 893), List(645, 518), List(645, 468), List(645, 234), List(645, 941), List(645, 0), List(645, 777), List(645, 666), List(645, 88), List(645, 481), List(645, 352), List(645, 408), List(645, 977), List(645, 170), List(645, 523), List(645, 762), List(645, 115), List(645, 730), List(645, 217), List(645, 276), List(645, 308), List(645, 5), List(645, 449), List(645, 120), List(645, 247), List(645, 379), List(645, 878), List(645, 440), List(645, 655), List(645, 511), List(645, 614), List(645, 269), List(645, 677), List(645, 597), List(645, 10), L...\r\n"
      ]
     },
     "execution_count": 5,
     "metadata": {},
     "output_type": "execute_result"
    }
   ],
   "source": [
    "val candidates = frequent_singl.toSet[Int].subsets(2).map(_.toList).toList"
   ]
  },
  {
   "cell_type": "code",
   "execution_count": null,
   "metadata": {},
   "outputs": [],
   "source": [
    "val doubletons = Array.fill(candidates.size)(0)\n",
    "//val source = Source.fromFile(data)\n",
    "\n",
    "//for (line <- source.getLines().map(x => x.split(\" \").map(item => item.toInt))) {\n",
    "for (line <- source) {\n",
    "    for (item <- candidates.zipWithIndex) {\n",
    "                doubletons(item._2) = doubletons(item._2)  + List(item._1).forall(line.toList.contains)\n",
    "            }\n",
    "        }\n",
    "//source.close()\n",
    "     \n",
    "val frequent_doubl = doubletons.zip(candidates).filter(x => (x._1 >= 100)).map(item => item._2)"
   ]
  },
  {
   "cell_type": "code",
   "execution_count": null,
   "metadata": {},
   "outputs": [],
   "source": [
    "val candidates = frequent_doubl.flatten.toSet[Int].subsets(3).map(_.toList).toList"
   ]
  },
  {
   "cell_type": "code",
   "execution_count": null,
   "metadata": {},
   "outputs": [],
   "source": [
    "val occurrences = Array.fill(candidates.size)(0)\n",
    "\n",
    "for (line <- source) {\n",
    "        for (item <- candidates.zipWithIndex) {\n",
    "            occurrences(item._2) = occurrences(item._2)  + List(item._1).forall(line.toList.contains)\n",
    "        }\n",
    "    }"
   ]
  },
  {
   "cell_type": "code",
   "execution_count": null,
   "metadata": {},
   "outputs": [],
   "source": [
    "val frequent_trp = occurrences.zip(candidates).filter(x => (x._1 >= 100)).map(item => item._2)"
   ]
  }
 ],
 "metadata": {
  "kernelspec": {
   "display_name": "spylon-kernel",
   "language": "scala",
   "name": "spylon-kernel"
  },
  "language_info": {
   "codemirror_mode": "text/x-scala",
   "file_extension": ".scala",
   "help_links": [
    {
     "text": "MetaKernel Magics",
     "url": "https://metakernel.readthedocs.io/en/latest/source/README.html"
    }
   ],
   "mimetype": "text/x-scala",
   "name": "scala",
   "pygments_lexer": "scala",
   "version": "0.4.1"
  }
 },
 "nbformat": 4,
 "nbformat_minor": 4
}
